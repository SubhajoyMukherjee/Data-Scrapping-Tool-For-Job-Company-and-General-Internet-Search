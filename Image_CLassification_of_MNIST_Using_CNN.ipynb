{
  "nbformat": 4,
  "nbformat_minor": 0,
  "metadata": {
    "colab": {
      "provenance": []
    },
    "kernelspec": {
      "name": "python3",
      "display_name": "Python 3"
    },
    "language_info": {
      "name": "python"
    }
  },
  "cells": [
    {
      "cell_type": "code",
      "execution_count": 162,
      "metadata": {
        "colab": {
          "base_uri": "https://localhost:8080/"
        },
        "id": "bNLQ1OiByXBU",
        "outputId": "d87268f1-4cb6-46a0-f3c7-4980ae1b312c"
      },
      "outputs": [
        {
          "output_type": "stream",
          "name": "stdout",
          "text": [
            "Requirement already satisfied: keras in /usr/local/lib/python3.10/dist-packages (2.15.0)\n"
          ]
        }
      ],
      "source": [
        "!pip install keras"
      ]
    },
    {
      "cell_type": "markdown",
      "source": [],
      "metadata": {
        "id": "TVtpMcFnD2YU"
      }
    },
    {
      "cell_type": "code",
      "source": [
        "import numpy as np\n",
        "import matplotlib.pyplot as plt\n",
        "import seaborn as sns\n",
        "import tensorflow as tf\n",
        "from tensorflow import keras\n",
        "from tensorflow.python.keras.utils.generic_utils import get_custom_objects\n",
        "from keras import  backend as K\n"
      ],
      "metadata": {
        "id": "jAI76OYkD2zi"
      },
      "execution_count": 9,
      "outputs": []
    },
    {
      "cell_type": "code",
      "source": [
        "from sklearn.model_selection import train_test_split"
      ],
      "metadata": {
        "id": "-TkLPk3wN8OJ"
      },
      "execution_count": 3,
      "outputs": []
    },
    {
      "cell_type": "code",
      "source": [
        "(X_train,Y_train_label),(X_test,Y_test_label)=keras.datasets.mnist.load_data()\n"
      ],
      "metadata": {
        "colab": {
          "base_uri": "https://localhost:8080/"
        },
        "id": "UdmJbOaeNP01",
        "outputId": "60b07816-2ae3-4e1a-eb0a-1f0ba6db2d48"
      },
      "execution_count": 4,
      "outputs": [
        {
          "output_type": "stream",
          "name": "stdout",
          "text": [
            "Downloading data from https://storage.googleapis.com/tensorflow/tf-keras-datasets/mnist.npz\n",
            "11490434/11490434 [==============================] - 0s 0us/step\n"
          ]
        }
      ]
    },
    {
      "cell_type": "code",
      "source": [
        "print(X_train.shape)\n",
        "print(Y_train_label.shape)"
      ],
      "metadata": {
        "colab": {
          "base_uri": "https://localhost:8080/"
        },
        "id": "hkFp6Pu8OVze",
        "outputId": "b894af20-3a73-4bdb-8d93-7a74f02f6195"
      },
      "execution_count": 7,
      "outputs": [
        {
          "output_type": "stream",
          "name": "stdout",
          "text": [
            "(60000, 28, 28)\n",
            "(60000,)\n"
          ]
        }
      ]
    },
    {
      "cell_type": "code",
      "source": [
        "print(X_test.shape)\n",
        "print(Y_test_label.shape)"
      ],
      "metadata": {
        "colab": {
          "base_uri": "https://localhost:8080/"
        },
        "id": "c7xwVaUIOqyR",
        "outputId": "d76710f6-adc9-499b-d101-5df5cf055a6f"
      },
      "execution_count": 8,
      "outputs": [
        {
          "output_type": "stream",
          "name": "stdout",
          "text": [
            "(10000, 28, 28)\n",
            "(10000,)\n"
          ]
        }
      ]
    },
    {
      "cell_type": "code",
      "source": [
        "print(type(X_train))\n",
        "print(type(Y_train_label))\n",
        "print(type(X_test))\n",
        "print(type(Y_test_label))"
      ],
      "metadata": {
        "colab": {
          "base_uri": "https://localhost:8080/"
        },
        "id": "rqbEh76qOwYj",
        "outputId": "ea204a17-3180-4450-d9c6-f3804b91c9b6"
      },
      "execution_count": 9,
      "outputs": [
        {
          "output_type": "stream",
          "name": "stdout",
          "text": [
            "<class 'numpy.ndarray'>\n",
            "<class 'numpy.ndarray'>\n",
            "<class 'numpy.ndarray'>\n",
            "<class 'numpy.ndarray'>\n"
          ]
        }
      ]
    },
    {
      "cell_type": "code",
      "source": [
        "print(X_train.ndim)\n",
        "print(X_train[0])"
      ],
      "metadata": {
        "colab": {
          "base_uri": "https://localhost:8080/"
        },
        "id": "NCDNo-4pPED5",
        "outputId": "df22f2d2-3d93-48e9-a651-822127ab5e65"
      },
      "execution_count": 13,
      "outputs": [
        {
          "output_type": "stream",
          "name": "stdout",
          "text": [
            "3\n",
            "[[  0   0   0   0   0   0   0   0   0   0   0   0   0   0   0   0   0   0\n",
            "    0   0   0   0   0   0   0   0   0   0]\n",
            " [  0   0   0   0   0   0   0   0   0   0   0   0   0   0   0   0   0   0\n",
            "    0   0   0   0   0   0   0   0   0   0]\n",
            " [  0   0   0   0   0   0   0   0   0   0   0   0   0   0   0   0   0   0\n",
            "    0   0   0   0   0   0   0   0   0   0]\n",
            " [  0   0   0   0   0   0   0   0   0   0   0   0   0   0   0   0   0   0\n",
            "    0   0   0   0   0   0   0   0   0   0]\n",
            " [  0   0   0   0   0   0   0   0   0   0   0   0   0   0   0   0   0   0\n",
            "    0   0   0   0   0   0   0   0   0   0]\n",
            " [  0   0   0   0   0   0   0   0   0   0   0   0   3  18  18  18 126 136\n",
            "  175  26 166 255 247 127   0   0   0   0]\n",
            " [  0   0   0   0   0   0   0   0  30  36  94 154 170 253 253 253 253 253\n",
            "  225 172 253 242 195  64   0   0   0   0]\n",
            " [  0   0   0   0   0   0   0  49 238 253 253 253 253 253 253 253 253 251\n",
            "   93  82  82  56  39   0   0   0   0   0]\n",
            " [  0   0   0   0   0   0   0  18 219 253 253 253 253 253 198 182 247 241\n",
            "    0   0   0   0   0   0   0   0   0   0]\n",
            " [  0   0   0   0   0   0   0   0  80 156 107 253 253 205  11   0  43 154\n",
            "    0   0   0   0   0   0   0   0   0   0]\n",
            " [  0   0   0   0   0   0   0   0   0  14   1 154 253  90   0   0   0   0\n",
            "    0   0   0   0   0   0   0   0   0   0]\n",
            " [  0   0   0   0   0   0   0   0   0   0   0 139 253 190   2   0   0   0\n",
            "    0   0   0   0   0   0   0   0   0   0]\n",
            " [  0   0   0   0   0   0   0   0   0   0   0  11 190 253  70   0   0   0\n",
            "    0   0   0   0   0   0   0   0   0   0]\n",
            " [  0   0   0   0   0   0   0   0   0   0   0   0  35 241 225 160 108   1\n",
            "    0   0   0   0   0   0   0   0   0   0]\n",
            " [  0   0   0   0   0   0   0   0   0   0   0   0   0  81 240 253 253 119\n",
            "   25   0   0   0   0   0   0   0   0   0]\n",
            " [  0   0   0   0   0   0   0   0   0   0   0   0   0   0  45 186 253 253\n",
            "  150  27   0   0   0   0   0   0   0   0]\n",
            " [  0   0   0   0   0   0   0   0   0   0   0   0   0   0   0  16  93 252\n",
            "  253 187   0   0   0   0   0   0   0   0]\n",
            " [  0   0   0   0   0   0   0   0   0   0   0   0   0   0   0   0   0 249\n",
            "  253 249  64   0   0   0   0   0   0   0]\n",
            " [  0   0   0   0   0   0   0   0   0   0   0   0   0   0  46 130 183 253\n",
            "  253 207   2   0   0   0   0   0   0   0]\n",
            " [  0   0   0   0   0   0   0   0   0   0   0   0  39 148 229 253 253 253\n",
            "  250 182   0   0   0   0   0   0   0   0]\n",
            " [  0   0   0   0   0   0   0   0   0   0  24 114 221 253 253 253 253 201\n",
            "   78   0   0   0   0   0   0   0   0   0]\n",
            " [  0   0   0   0   0   0   0   0  23  66 213 253 253 253 253 198  81   2\n",
            "    0   0   0   0   0   0   0   0   0   0]\n",
            " [  0   0   0   0   0   0  18 171 219 253 253 253 253 195  80   9   0   0\n",
            "    0   0   0   0   0   0   0   0   0   0]\n",
            " [  0   0   0   0  55 172 226 253 253 253 253 244 133  11   0   0   0   0\n",
            "    0   0   0   0   0   0   0   0   0   0]\n",
            " [  0   0   0   0 136 253 253 253 212 135 132  16   0   0   0   0   0   0\n",
            "    0   0   0   0   0   0   0   0   0   0]\n",
            " [  0   0   0   0   0   0   0   0   0   0   0   0   0   0   0   0   0   0\n",
            "    0   0   0   0   0   0   0   0   0   0]\n",
            " [  0   0   0   0   0   0   0   0   0   0   0   0   0   0   0   0   0   0\n",
            "    0   0   0   0   0   0   0   0   0   0]\n",
            " [  0   0   0   0   0   0   0   0   0   0   0   0   0   0   0   0   0   0\n",
            "    0   0   0   0   0   0   0   0   0   0]]\n"
          ]
        }
      ]
    },
    {
      "cell_type": "code",
      "source": [
        "print(Y_train_label.ndim)"
      ],
      "metadata": {
        "colab": {
          "base_uri": "https://localhost:8080/"
        },
        "id": "LUG0H5h-PZur",
        "outputId": "cc70a661-f89d-4a3f-ea00-a507da473a70"
      },
      "execution_count": 14,
      "outputs": [
        {
          "output_type": "stream",
          "name": "stdout",
          "text": [
            "1\n"
          ]
        }
      ]
    },
    {
      "cell_type": "code",
      "source": [
        "print(Y_train_label[0])\n",
        "print(Y_train_label[1])\n",
        "print(Y_train_label[2])"
      ],
      "metadata": {
        "colab": {
          "base_uri": "https://localhost:8080/"
        },
        "id": "_gYHe4oaPdt3",
        "outputId": "bfdfeffc-1342-47ac-b663-ccdde58420a5"
      },
      "execution_count": 16,
      "outputs": [
        {
          "output_type": "stream",
          "name": "stdout",
          "text": [
            "5\n",
            "0\n",
            "4\n"
          ]
        }
      ]
    },
    {
      "cell_type": "code",
      "source": [
        "print(np.unique(X_train))"
      ],
      "metadata": {
        "colab": {
          "base_uri": "https://localhost:8080/"
        },
        "id": "3CIiUa-_WF8-",
        "outputId": "60ced3fa-51b0-490c-f7cc-c5cdde0776e8"
      },
      "execution_count": 39,
      "outputs": [
        {
          "output_type": "stream",
          "name": "stdout",
          "text": [
            "[  0   1   2   3   4   5   6   7   8   9  10  11  12  13  14  15  16  17\n",
            "  18  19  20  21  22  23  24  25  26  27  28  29  30  31  32  33  34  35\n",
            "  36  37  38  39  40  41  42  43  44  45  46  47  48  49  50  51  52  53\n",
            "  54  55  56  57  58  59  60  61  62  63  64  65  66  67  68  69  70  71\n",
            "  72  73  74  75  76  77  78  79  80  81  82  83  84  85  86  87  88  89\n",
            "  90  91  92  93  94  95  96  97  98  99 100 101 102 103 104 105 106 107\n",
            " 108 109 110 111 112 113 114 115 116 117 118 119 120 121 122 123 124 125\n",
            " 126 127 128 129 130 131 132 133 134 135 136 137 138 139 140 141 142 143\n",
            " 144 145 146 147 148 149 150 151 152 153 154 155 156 157 158 159 160 161\n",
            " 162 163 164 165 166 167 168 169 170 171 172 173 174 175 176 177 178 179\n",
            " 180 181 182 183 184 185 186 187 188 189 190 191 192 193 194 195 196 197\n",
            " 198 199 200 201 202 203 204 205 206 207 208 209 210 211 212 213 214 215\n",
            " 216 217 218 219 220 221 222 223 224 225 226 227 228 229 230 231 232 233\n",
            " 234 235 236 237 238 239 240 241 242 243 244 245 246 247 248 249 250 251\n",
            " 252 253 254 255]\n"
          ]
        }
      ]
    },
    {
      "cell_type": "code",
      "source": [
        "print(np.unique(Y_train_label))\n",
        "\n"
      ],
      "metadata": {
        "colab": {
          "base_uri": "https://localhost:8080/"
        },
        "id": "Jwz10oX_PpUA",
        "outputId": "a8defb5c-10e8-441e-f4ba-c6f434cb358c"
      },
      "execution_count": 31,
      "outputs": [
        {
          "output_type": "stream",
          "name": "stdout",
          "text": [
            "[0 1 2 3 4 5 6 7 8 9]\n"
          ]
        }
      ]
    },
    {
      "cell_type": "code",
      "source": [
        "#Split the data set using as 80% of train data and 20% of test data\n",
        "\n",
        "x_full=np.concatenate((X_train,X_test),axis=0)\n",
        "y_full=np.concatenate((Y_train_label,Y_test_label),axis=0)\n",
        "\n",
        "#Split the dataset using train_test_split function\n",
        "\n",
        "x_train,x_test,y_train,y_test=train_test_split(x_full,y_full,train_size=0.80, shuffle=True)\n"
      ],
      "metadata": {
        "id": "_b89hrzqNQTc"
      },
      "execution_count": 5,
      "outputs": []
    },
    {
      "cell_type": "code",
      "source": [
        "print(x_train.shape)"
      ],
      "metadata": {
        "colab": {
          "base_uri": "https://localhost:8080/"
        },
        "id": "cO_u_v6qbPIb",
        "outputId": "3e2af24d-364e-4575-d5aa-53b22c5623cb"
      },
      "execution_count": 43,
      "outputs": [
        {
          "output_type": "stream",
          "name": "stdout",
          "text": [
            "(56000, 28, 28)\n"
          ]
        }
      ]
    },
    {
      "cell_type": "code",
      "source": [
        "if(np.array_equal(X_train[0],x_train[0])):\n",
        "  print(y_train[0])"
      ],
      "metadata": {
        "colab": {
          "base_uri": "https://localhost:8080/"
        },
        "id": "SVVY6J3YU19q",
        "outputId": "6486ffe1-abd9-4893-96cc-dd56d678973d"
      },
      "execution_count": 36,
      "outputs": [
        {
          "output_type": "stream",
          "name": "stdout",
          "text": [
            "5\n"
          ]
        }
      ]
    },
    {
      "cell_type": "code",
      "source": [
        "#Scale the values of the pixel in x_train and x_test variables in range [0,1] by dividing it by 255 as it has unique integer values from 0 to 255\n",
        "\n",
        "x_train=x_train/255\n",
        "x_test=x_test/255\n",
        "print(x_train[0])\n"
      ],
      "metadata": {
        "colab": {
          "base_uri": "https://localhost:8080/"
        },
        "id": "_I6wFMXgVnXV",
        "outputId": "b9696bbe-1f57-49c0-fa08-5816894980dd"
      },
      "execution_count": 6,
      "outputs": [
        {
          "output_type": "stream",
          "name": "stdout",
          "text": [
            "[[0.         0.         0.         0.         0.         0.\n",
            "  0.         0.         0.         0.         0.         0.\n",
            "  0.         0.         0.         0.         0.         0.\n",
            "  0.         0.         0.         0.         0.         0.\n",
            "  0.         0.         0.         0.        ]\n",
            " [0.         0.         0.         0.         0.         0.\n",
            "  0.         0.         0.         0.         0.         0.\n",
            "  0.         0.         0.         0.         0.         0.\n",
            "  0.         0.         0.         0.         0.         0.\n",
            "  0.         0.         0.         0.        ]\n",
            " [0.         0.         0.         0.         0.         0.\n",
            "  0.         0.         0.         0.         0.         0.\n",
            "  0.         0.         0.         0.         0.         0.\n",
            "  0.         0.         0.         0.         0.         0.\n",
            "  0.         0.         0.         0.        ]\n",
            " [0.         0.         0.         0.         0.         0.\n",
            "  0.         0.         0.         0.         0.         0.\n",
            "  0.         0.         0.         0.         0.         0.\n",
            "  0.         0.         0.         0.         0.         0.\n",
            "  0.         0.         0.         0.        ]\n",
            " [0.         0.         0.         0.         0.         0.\n",
            "  0.         0.         0.         0.         0.         0.\n",
            "  0.         0.         0.         0.         0.         0.\n",
            "  0.         0.         0.         0.         0.         0.\n",
            "  0.         0.         0.         0.        ]\n",
            " [0.         0.         0.         0.         0.         0.\n",
            "  0.         0.         0.         0.         0.         0.\n",
            "  0.         0.         0.         0.         0.         0.\n",
            "  0.02745098 0.67058824 1.         0.96862745 0.         0.\n",
            "  0.         0.         0.         0.        ]\n",
            " [0.         0.         0.         0.         0.         0.\n",
            "  0.         0.         0.         0.         0.         0.\n",
            "  0.         0.         0.         0.         0.         0.05098039\n",
            "  0.23137255 0.99215686 0.99215686 0.98039216 0.34901961 0.\n",
            "  0.         0.         0.         0.        ]\n",
            " [0.         0.         0.         0.         0.         0.\n",
            "  0.         0.         0.         0.         0.         0.\n",
            "  0.         0.         0.         0.         0.         0.62352941\n",
            "  0.99215686 0.99215686 0.99215686 0.96078431 0.         0.\n",
            "  0.         0.         0.         0.        ]\n",
            " [0.         0.         0.         0.         0.         0.\n",
            "  0.         0.         0.         0.         0.         0.\n",
            "  0.         0.         0.         0.         0.18039216 0.91764706\n",
            "  0.99215686 0.99215686 0.68235294 0.24313725 0.         0.\n",
            "  0.         0.         0.         0.        ]\n",
            " [0.         0.         0.         0.         0.         0.\n",
            "  0.         0.         0.         0.         0.         0.\n",
            "  0.         0.         0.04705882 0.20784314 0.87058824 0.99215686\n",
            "  0.99215686 0.92156863 0.1254902  0.         0.         0.\n",
            "  0.         0.         0.         0.        ]\n",
            " [0.         0.         0.         0.         0.         0.\n",
            "  0.         0.         0.         0.         0.         0.\n",
            "  0.         0.         0.30588235 0.99215686 0.99215686 0.99215686\n",
            "  0.99215686 0.5372549  0.         0.         0.         0.\n",
            "  0.         0.         0.         0.        ]\n",
            " [0.         0.         0.         0.         0.         0.\n",
            "  0.         0.         0.         0.         0.         0.\n",
            "  0.         0.17647059 0.90196078 0.99215686 0.99215686 0.99215686\n",
            "  0.73333333 0.03137255 0.         0.         0.         0.\n",
            "  0.         0.         0.         0.        ]\n",
            " [0.         0.         0.         0.         0.         0.\n",
            "  0.         0.         0.         0.         0.         0.\n",
            "  0.01568627 0.57254902 0.99215686 0.99215686 0.99215686 0.95686275\n",
            "  0.65490196 0.         0.         0.         0.         0.\n",
            "  0.         0.         0.         0.        ]\n",
            " [0.         0.         0.         0.         0.         0.\n",
            "  0.         0.         0.         0.         0.         0.\n",
            "  0.43921569 0.99215686 0.99215686 0.99215686 0.74117647 0.34901961\n",
            "  0.         0.         0.         0.         0.         0.\n",
            "  0.         0.         0.         0.        ]\n",
            " [0.         0.         0.         0.         0.         0.\n",
            "  0.         0.         0.         0.         0.         0.49019608\n",
            "  0.96862745 0.99215686 0.99215686 0.96470588 0.35686275 0.\n",
            "  0.         0.         0.         0.         0.         0.\n",
            "  0.         0.         0.         0.        ]\n",
            " [0.         0.         0.         0.         0.         0.\n",
            "  0.         0.         0.         0.         0.         0.9372549\n",
            "  0.99215686 0.99215686 0.99215686 0.84705882 0.         0.\n",
            "  0.         0.         0.         0.         0.         0.\n",
            "  0.         0.         0.         0.        ]\n",
            " [0.         0.         0.         0.         0.         0.\n",
            "  0.         0.         0.         0.0745098  0.48627451 0.96470588\n",
            "  0.99215686 0.99215686 0.84313725 0.15294118 0.         0.\n",
            "  0.         0.         0.         0.         0.         0.\n",
            "  0.         0.         0.         0.        ]\n",
            " [0.         0.         0.         0.         0.         0.\n",
            "  0.         0.         0.         0.15294118 0.99215686 0.99215686\n",
            "  0.99215686 0.99215686 0.52156863 0.         0.         0.\n",
            "  0.         0.         0.         0.         0.         0.\n",
            "  0.         0.         0.         0.        ]\n",
            " [0.         0.         0.         0.         0.         0.\n",
            "  0.         0.         0.02352941 0.56862745 0.99215686 0.99215686\n",
            "  0.90980392 0.32941176 0.03137255 0.         0.         0.\n",
            "  0.         0.         0.         0.         0.         0.\n",
            "  0.         0.         0.         0.        ]\n",
            " [0.         0.         0.         0.         0.         0.\n",
            "  0.         0.         0.36470588 0.99215686 0.99215686 0.99215686\n",
            "  0.87058824 0.         0.         0.         0.         0.\n",
            "  0.         0.         0.         0.         0.         0.\n",
            "  0.         0.         0.         0.        ]\n",
            " [0.         0.         0.         0.         0.         0.\n",
            "  0.         0.49411765 0.89803922 0.99215686 0.99215686 0.90980392\n",
            "  0.29411765 0.         0.         0.         0.         0.\n",
            "  0.         0.         0.         0.         0.         0.\n",
            "  0.         0.         0.         0.        ]\n",
            " [0.         0.         0.         0.         0.         0.\n",
            "  0.         0.20784314 0.97647059 0.99215686 0.99215686 0.65882353\n",
            "  0.         0.         0.         0.         0.         0.\n",
            "  0.         0.         0.         0.         0.         0.\n",
            "  0.         0.         0.         0.        ]\n",
            " [0.         0.         0.         0.         0.         0.\n",
            "  0.         0.24705882 0.97647059 0.99215686 0.99215686 0.40392157\n",
            "  0.         0.         0.         0.         0.         0.\n",
            "  0.         0.         0.         0.         0.         0.\n",
            "  0.         0.         0.         0.        ]\n",
            " [0.         0.         0.         0.         0.         0.\n",
            "  0.         0.45490196 0.98823529 0.99215686 0.99215686 0.05490196\n",
            "  0.         0.         0.         0.         0.         0.\n",
            "  0.         0.         0.         0.         0.         0.\n",
            "  0.         0.         0.         0.        ]\n",
            " [0.         0.         0.         0.         0.         0.\n",
            "  0.         0.         0.96862745 0.99215686 0.99215686 0.05490196\n",
            "  0.         0.         0.         0.         0.         0.\n",
            "  0.         0.         0.         0.         0.         0.\n",
            "  0.         0.         0.         0.        ]\n",
            " [0.         0.         0.         0.         0.         0.\n",
            "  0.         0.         0.         0.         0.         0.\n",
            "  0.         0.         0.         0.         0.         0.\n",
            "  0.         0.         0.         0.         0.         0.\n",
            "  0.         0.         0.         0.        ]\n",
            " [0.         0.         0.         0.         0.         0.\n",
            "  0.         0.         0.         0.         0.         0.\n",
            "  0.         0.         0.         0.         0.         0.\n",
            "  0.         0.         0.         0.         0.         0.\n",
            "  0.         0.         0.         0.        ]\n",
            " [0.         0.         0.         0.         0.         0.\n",
            "  0.         0.         0.         0.         0.         0.\n",
            "  0.         0.         0.         0.         0.         0.\n",
            "  0.         0.         0.         0.         0.         0.\n",
            "  0.         0.         0.         0.        ]]\n"
          ]
        }
      ]
    },
    {
      "cell_type": "code",
      "source": [
        "#plot 1st training data using colourmap in matplotlib\n",
        "\n",
        "plt.imshow(x_train[0],cmap=plt.cm.binary)\n",
        "plt.show()"
      ],
      "metadata": {
        "colab": {
          "base_uri": "https://localhost:8080/",
          "height": 430
        },
        "id": "z_X7qB1pW-26",
        "outputId": "d446b880-2dfb-42c5-cfb3-468043a016b8"
      },
      "execution_count": 41,
      "outputs": [
        {
          "output_type": "display_data",
          "data": {
            "text/plain": [
              "<Figure size 640x480 with 1 Axes>"
            ],
            "image/png": "[encoded data removed]"
          },
          "metadata": {}
        }
      ]
    },
    {
      "cell_type": "markdown",
      "source": [],
      "metadata": {
        "id": "0iPzA0h5KFUp"
      }
    },
    {
      "cell_type": "code",
      "source": [],
      "metadata": {
        "id": "7vfqMW9uKEEe"
      },
      "execution_count": null,
      "outputs": []
    },
    {
      "cell_type": "code",
      "source": [
        "#Reshape the x_train variable from 3D to 2D by arranging the 28*28 pixel sizes to one vector of size 784\n",
        "\n",
        "x_train_2d=x_train.reshape(len(x_train),(784))\n",
        "x_test_2d=x_test.reshape(len(x_test),(784))\n",
        "\n",
        "print(x_train_2d.shape)\n",
        "print(x_train_2d[0])"
      ],
      "metadata": {
        "colab": {
          "base_uri": "https://localhost:8080/"
        },
        "collapsed": true,
        "id": "zMbkOceRYOWb",
        "outputId": "05e81bcc-e707-41d8-bb72-10b9ced79ab7"
      },
      "execution_count": 42,
      "outputs": [
        {
          "output_type": "stream",
          "name": "stdout",
          "text": [
            "(56000, 784)\n",
            "[0.         0.         0.         0.         0.         0.\n",
            " 0.         0.         0.         0.         0.         0.\n",
            " 0.         0.         0.         0.         0.         0.\n",
            " 0.         0.         0.         0.         0.         0.\n",
            " 0.         0.         0.         0.         0.         0.\n",
            " 0.         0.         0.         0.         0.         0.\n",
            " 0.         0.         0.         0.         0.         0.\n",
            " 0.         0.         0.         0.         0.         0.\n",
            " 0.         0.         0.         0.         0.         0.\n",
            " 0.         0.         0.         0.         0.         0.\n",
            " 0.         0.         0.         0.         0.         0.\n",
            " 0.         0.         0.         0.         0.         0.\n",
            " 0.         0.         0.         0.         0.         0.\n",
            " 0.         0.         0.         0.         0.         0.\n",
            " 0.         0.         0.         0.         0.         0.\n",
            " 0.         0.         0.         0.         0.         0.\n",
            " 0.         0.         0.         0.         0.         0.\n",
            " 0.         0.         0.         0.         0.         0.\n",
            " 0.         0.         0.         0.         0.         0.\n",
            " 0.         0.         0.         0.         0.         0.\n",
            " 0.         0.         0.         0.         0.         0.\n",
            " 0.         0.         0.         0.         0.         0.\n",
            " 0.         0.         0.         0.         0.         0.\n",
            " 0.         0.         0.         0.         0.         0.\n",
            " 0.         0.         0.         0.         0.         0.\n",
            " 0.         0.         0.         0.         0.         0.\n",
            " 0.         0.         0.         0.         0.         0.\n",
            " 0.         0.         0.         0.         0.         0.\n",
            " 0.         0.         0.         0.         0.         0.\n",
            " 0.         0.         0.         0.         0.         0.00784314\n",
            " 0.05098039 0.11372549 0.28627451 0.54117647 0.79607843 0.61960784\n",
            " 0.01176471 0.         0.         0.         0.         0.\n",
            " 0.         0.         0.         0.         0.         0.\n",
            " 0.         0.         0.         0.         0.         0.\n",
            " 0.         0.         0.         0.11372549 0.99607843 0.99607843\n",
            " 0.99607843 0.99607843 0.99607843 0.99607843 0.23921569 0.\n",
            " 0.         0.         0.         0.         0.         0.\n",
            " 0.         0.         0.         0.         0.         0.\n",
            " 0.         0.         0.         0.         0.         0.\n",
            " 0.04705882 0.40784314 0.99607843 0.99607843 0.99607843 0.95294118\n",
            " 0.99607843 0.97254902 0.20784314 0.         0.         0.\n",
            " 0.         0.         0.         0.         0.         0.\n",
            " 0.         0.         0.         0.         0.         0.\n",
            " 0.         0.         0.         0.29803922 0.88235294 0.95294118\n",
            " 0.99607843 0.95686275 0.54509804 0.12156863 0.88235294 0.99607843\n",
            " 0.55294118 0.         0.         0.         0.         0.\n",
            " 0.         0.         0.         0.         0.         0.\n",
            " 0.         0.         0.         0.         0.         0.\n",
            " 0.         0.96862745 0.99607843 0.97254902 0.60784314 0.14901961\n",
            " 0.         0.         0.98431373 0.99607843 0.55294118 0.\n",
            " 0.         0.         0.         0.         0.         0.\n",
            " 0.         0.         0.         0.         0.         0.\n",
            " 0.         0.         0.         0.07058824 0.67058824 0.99607843\n",
            " 0.96078431 0.25098039 0.         0.         0.         0.09019608\n",
            " 0.98823529 0.99607843 0.55294118 0.         0.         0.\n",
            " 0.         0.         0.         0.         0.         0.\n",
            " 0.         0.         0.         0.         0.         0.\n",
            " 0.         0.55294118 0.99607843 0.98431373 0.22745098 0.\n",
            " 0.         0.         0.         0.31372549 0.99607843 0.97254902\n",
            " 0.27058824 0.         0.         0.         0.         0.\n",
            " 0.         0.         0.         0.         0.         0.\n",
            " 0.         0.         0.         0.         0.15686275 0.96078431\n",
            " 0.99607843 0.32156863 0.         0.         0.         0.\n",
            " 0.2        0.98039216 0.99607843 0.91764706 0.         0.\n",
            " 0.         0.         0.         0.         0.         0.\n",
            " 0.         0.         0.         0.         0.         0.\n",
            " 0.         0.         0.50588235 0.99607843 0.90588235 0.01960784\n",
            " 0.         0.01568627 0.16470588 0.49803922 0.89019608 0.99607843\n",
            " 0.99607843 0.91764706 0.         0.         0.         0.\n",
            " 0.         0.         0.         0.         0.         0.\n",
            " 0.         0.         0.         0.         0.         0.\n",
            " 0.50588235 0.99607843 1.         0.8        0.79607843 0.81568627\n",
            " 1.         0.99607843 0.95686275 0.68235294 0.99607843 0.91764706\n",
            " 0.         0.         0.         0.         0.         0.\n",
            " 0.         0.         0.         0.         0.         0.\n",
            " 0.         0.         0.         0.         0.14117647 0.93333333\n",
            " 0.99607843 0.99607843 0.99607843 0.99607843 0.89803922 0.62352941\n",
            " 0.25490196 0.30588235 0.99607843 0.91764706 0.         0.\n",
            " 0.         0.         0.         0.         0.         0.\n",
            " 0.         0.         0.         0.         0.         0.\n",
            " 0.         0.         0.         0.17254902 0.61568627 0.54117647\n",
            " 0.61960784 0.39215686 0.05882353 0.         0.         0.30588235\n",
            " 0.99607843 0.91764706 0.         0.         0.         0.\n",
            " 0.         0.         0.         0.         0.         0.\n",
            " 0.         0.         0.         0.         0.         0.\n",
            " 0.         0.         0.         0.         0.         0.\n",
            " 0.         0.         0.         0.30588235 0.99607843 0.91764706\n",
            " 0.1372549  0.05882353 0.         0.         0.         0.\n",
            " 0.         0.         0.         0.         0.         0.\n",
            " 0.         0.         0.         0.         0.         0.\n",
            " 0.         0.         0.         0.         0.         0.\n",
            " 0.         0.30588235 0.99607843 0.99607843 0.88627451 0.28627451\n",
            " 0.         0.         0.         0.         0.         0.\n",
            " 0.         0.         0.         0.         0.         0.\n",
            " 0.         0.         0.         0.         0.         0.\n",
            " 0.         0.         0.         0.         0.         0.18431373\n",
            " 0.99215686 0.99607843 0.64313725 0.         0.         0.\n",
            " 0.         0.         0.         0.         0.         0.\n",
            " 0.         0.         0.         0.         0.         0.\n",
            " 0.         0.         0.         0.         0.         0.\n",
            " 0.         0.         0.         0.         0.98431373 0.99607843\n",
            " 0.55294118 0.         0.         0.         0.         0.\n",
            " 0.         0.         0.         0.         0.         0.\n",
            " 0.         0.         0.         0.         0.         0.\n",
            " 0.         0.         0.         0.         0.         0.\n",
            " 0.         0.         0.98431373 0.99607843 0.55294118 0.\n",
            " 0.         0.         0.         0.         0.         0.\n",
            " 0.         0.         0.         0.         0.         0.\n",
            " 0.         0.         0.         0.         0.         0.\n",
            " 0.         0.         0.         0.         0.         0.\n",
            " 0.98431373 0.99607843 0.55294118 0.         0.         0.\n",
            " 0.         0.         0.         0.         0.         0.\n",
            " 0.         0.         0.         0.         0.         0.\n",
            " 0.         0.         0.         0.         0.         0.\n",
            " 0.         0.         0.         0.         0.69803922 0.99607843\n",
            " 0.55294118 0.         0.         0.         0.         0.\n",
            " 0.         0.         0.         0.         0.         0.\n",
            " 0.         0.         0.         0.         0.         0.\n",
            " 0.         0.         0.         0.         0.         0.\n",
            " 0.         0.         0.25490196 0.90588235 0.55294118 0.\n",
            " 0.         0.         0.         0.         0.         0.\n",
            " 0.         0.         0.         0.         0.         0.\n",
            " 0.         0.         0.         0.         0.         0.\n",
            " 0.         0.         0.         0.         0.         0.\n",
            " 0.         0.         0.         0.         0.         0.\n",
            " 0.         0.         0.         0.         0.         0.\n",
            " 0.         0.         0.         0.         0.         0.\n",
            " 0.         0.         0.         0.         0.         0.\n",
            " 0.         0.         0.         0.         0.         0.\n",
            " 0.         0.         0.         0.         0.         0.\n",
            " 0.         0.         0.         0.        ]\n"
          ]
        }
      ]
    },
    {
      "cell_type": "code",
      "source": [
        "def custom_activation(x):\n",
        "  return K.relu(x)+0.01*x\n",
        "\n",
        "get_custom_objects().update({'custom_activation': keras.layers.Activation(custom_activation)})\n"
      ],
      "metadata": {
        "id": "pfwj_6SObKdx"
      },
      "execution_count": 25,
      "outputs": []
    },
    {
      "cell_type": "code",
      "source": [
        "#Implementing the CNN Model by sequentially adding the layers one by one\n",
        "\n",
        "model=keras.Sequential()\n",
        "\n",
        "model.add(keras.layers.Conv2D(16, kernel_size=(3,3), activation='relu',input_shape=(28,28,1)))  #Output Shape for each image : 26*26*16(Stride by default=1)\n",
        "\n",
        "model.add(keras.layers.MaxPooling2D(pool_size=(2,2)))    #Output Shape for each image : 13*13*16(Stride by default=1)\n",
        "\n",
        "\n",
        "model.add(keras.layers.Conv2D(32,kernel_size=(4,4),activation='relu'))\n",
        "#model.add(keras.layers.Lambda(custom_activation))\n",
        "\n",
        "\n",
        "model.add(keras.layers.MaxPooling2D(pool_size=(2,2)))\n",
        "\n",
        "model.add(keras.layers.Flatten())\n",
        "\n",
        "model.add(keras.layers.Dense(10, activation='softmax'))\n",
        "\n",
        "\n",
        "model.summary()\n"
      ],
      "metadata": {
        "colab": {
          "base_uri": "https://localhost:8080/"
        },
        "id": "ahCb5VtjZ1BJ",
        "outputId": "6a918ae5-8c89-4bec-bd8e-84417f646eca"
      },
      "execution_count": 54,
      "outputs": [
        {
          "output_type": "stream",
          "name": "stdout",
          "text": [
            "Model: \"sequential_10\"\n",
            "_________________________________________________________________\n",
            " Layer (type)                Output Shape              Param #   \n",
            "=================================================================\n",
            " conv2d_17 (Conv2D)          (None, 26, 26, 16)        160       \n",
            "                                                                 \n",
            " max_pooling2d_16 (MaxPooli  (None, 13, 13, 16)        0         \n",
            " ng2D)                                                           \n",
            "                                                                 \n",
            " conv2d_18 (Conv2D)          (None, 10, 10, 32)        8224      \n",
            "                                                                 \n",
            " max_pooling2d_17 (MaxPooli  (None, 5, 5, 32)          0         \n",
            " ng2D)                                                           \n",
            "                                                                 \n",
            " flatten_7 (Flatten)         (None, 800)               0         \n",
            "                                                                 \n",
            " dense_7 (Dense)             (None, 10)                8010      \n",
            "                                                                 \n",
            "=================================================================\n",
            "Total params: 16394 (64.04 KB)\n",
            "Trainable params: 16394 (64.04 KB)\n",
            "Non-trainable params: 0 (0.00 Byte)\n",
            "_________________________________________________________________\n"
          ]
        }
      ]
    },
    {
      "cell_type": "code",
      "source": [
        "model.compile(optimizer='rmsprop',loss='sparse_categorical_crossentropy',metrics=['accuracy'])"
      ],
      "metadata": {
        "id": "W44AhFT-fr8x"
      },
      "execution_count": 55,
      "outputs": []
    },
    {
      "cell_type": "code",
      "source": [
        "a=model.fit(x_train,y_train,epochs=5,batch_size=20)"
      ],
      "metadata": {
        "colab": {
          "base_uri": "https://localhost:8080/"
        },
        "id": "ujMMasd3rZVY",
        "outputId": "de6e54f8-4489-4a85-ad31-e38f7f88713b"
      },
      "execution_count": 56,
      "outputs": [
        {
          "output_type": "stream",
          "name": "stdout",
          "text": [
            "Epoch 1/5\n",
            "2800/2800 [==============================] - 38s 13ms/step - loss: 0.1651 - accuracy: 0.9506\n",
            "Epoch 2/5\n",
            "2800/2800 [==============================] - 63s 22ms/step - loss: 0.0595 - accuracy: 0.9815\n",
            "Epoch 3/5\n",
            "2800/2800 [==============================] - 36s 13ms/step - loss: 0.0449 - accuracy: 0.9859\n",
            "Epoch 4/5\n",
            "2800/2800 [==============================] - 52s 19ms/step - loss: 0.0373 - accuracy: 0.9887\n",
            "Epoch 5/5\n",
            "2800/2800 [==============================] - 42s 15ms/step - loss: 0.0318 - accuracy: 0.9907\n"
          ]
        }
      ]
    },
    {
      "cell_type": "code",
      "source": [
        "model.evaluate(x_test,y_test)"
      ],
      "metadata": {
        "colab": {
          "base_uri": "https://localhost:8080/"
        },
        "id": "fR2DVEayskjb",
        "outputId": "31c8a8c7-2384-43a6-a52f-571780432961"
      },
      "execution_count": 57,
      "outputs": [
        {
          "output_type": "stream",
          "name": "stdout",
          "text": [
            "438/438 [==============================] - 6s 12ms/step - loss: 0.0455 - accuracy: 0.9879\n"
          ]
        },
        {
          "output_type": "execute_result",
          "data": {
            "text/plain": [
              "[0.04545772448182106, 0.987928569316864]"
            ]
          },
          "metadata": {},
          "execution_count": 57
        }
      ]
    },
    {
      "cell_type": "markdown",
      "source": [
        "# Confusion Matrix"
      ],
      "metadata": {
        "id": "4NIGLW-R5TUA"
      }
    },
    {
      "cell_type": "code",
      "source": [
        "predicted_y=model.predict(x_test)\n",
        "print(type(predicted_y))\n",
        "print(predicted_y)\n",
        "predicted_y_labels = [np.argmax(i) for i in predicted_y]\n"
      ],
      "metadata": {
        "colab": {
          "base_uri": "https://localhost:8080/"
        },
        "id": "POU2bI3_5_TG",
        "outputId": "1588b281-c0ec-4cce-d70e-b5c192560711"
      },
      "execution_count": 58,
      "outputs": [
        {
          "output_type": "stream",
          "name": "stdout",
          "text": [
            "438/438 [==============================] - 3s 6ms/step\n",
            "<class 'numpy.ndarray'>\n",
            "[[9.7451448e-08 9.9999601e-01 3.9733067e-07 ... 7.6994340e-08\n",
            "  8.3479698e-08 1.2571516e-09]\n",
            " [5.8465110e-07 1.9574053e-04 9.9933499e-01 ... 4.1872301e-08\n",
            "  5.4444181e-06 3.3186667e-10]\n",
            " [2.5634257e-09 5.5309056e-12 1.3055922e-04 ... 4.1484491e-05\n",
            "  6.2303843e-06 1.3903239e-07]\n",
            " ...\n",
            " [1.9539415e-08 7.8152752e-06 9.9999183e-01 ... 3.0058689e-07\n",
            "  4.8661553e-10 3.7004430e-14]\n",
            " [7.8313961e-13 9.0392038e-10 2.3151087e-11 ... 4.4031257e-08\n",
            "  7.6434592e-10 3.8621870e-09]\n",
            " [1.7492137e-04 8.2401463e-09 1.2367701e-09 ... 2.2866838e-05\n",
            "  3.9946715e-10 3.5236756e-08]]\n"
          ]
        }
      ]
    },
    {
      "cell_type": "code",
      "source": [
        "print(predicted_y_labels)\n",
        "print(type(predicted_y_labels))"
      ],
      "metadata": {
        "colab": {
          "base_uri": "https://localhost:8080/"
        },
        "id": "u9_FRBPS_EYa",
        "outputId": "5f206a22-0f38-4544-fd50-78965d8def98"
      },
      "execution_count": 59,
      "outputs": [
        {
          "output_type": "stream",
          "name": "stdout",
          "text": [
            "[1, 2, 3, 5, 5, 5, 9, 1, 0, 1, 1, 8, 7, 4, 6, 3, 6, 7, 2, 4, 3, 4, 9, 2, 1, 6, 7, 0, 1, 3, 8, 1, 7, 1, 3, 0, 6, 0, 3, 1, 2, 8, 1, 8, 6, 4, 9, 0, 8, 1, 1, 0, 5, 7, 4, 2, 3, 5, 2, 5, 0, 4, 6, 5, 8, 3, 6, 1, 1, 6, 1, 7, 3, 1, 4, 4, 9, 6, 3, 7, 4, 6, 5, 4, 9, 8, 4, 3, 1, 1, 9, 9, 8, 9, 9, 8, 2, 8, 0, 6, 5, 5, 9, 1, 2, 4, 5, 7, 7, 0, 0, 5, 1, 5, 1, 5, 9, 4, 1, 7, 5, 7, 0, 1, 1, 7, 8, 4, 9, 8, 7, 1, 8, 3, 8, 9, 2, 2, 4, 0, 2, 5, 8, 4, 1, 7, 7, 7, 6, 6, 5, 0, 9, 8, 3, 9, 0, 8, 3, 7, 9, 1, 3, 0, 9, 6, 2, 5, 1, 9, 1, 7, 9, 8, 0, 5, 9, 8, 8, 5, 0, 1, 7, 5, 9, 2, 6, 0, 4, 4, 1, 9, 9, 6, 8, 4, 1, 2, 4, 6, 2, 8, 3, 4, 6, 1, 6, 7, 6, 3, 1, 0, 1, 6, 7, 3, 6, 8, 9, 8, 6, 0, 4, 2, 7, 4, 0, 4, 5, 7, 0, 8, 9, 3, 4, 5, 2, 3, 0, 2, 1, 9, 8, 0, 3, 3, 1, 6, 7, 5, 6, 8, 5, 9, 1, 5, 4, 1, 8, 7, 6, 9, 7, 0, 1, 0, 8, 9, 5, 6, 4, 1, 4, 6, 1, 5, 0, 4, 3, 0, 9, 4, 9, 1, 4, 5, 9, 6, 6, 2, 9, 1, 6, 0, 9, 0, 5, 1, 2, 6, 3, 4, 0, 3, 7, 4, 4, 5, 9, 3, 6, 3, 9, 8, 6, 6, 4, 5, 6, 0, 7, 0, 3, 3, 4, 8, 5, 2, 8, 2, 2, 3, 7, 7, 4, 7, 1, 0, 3, 6, 0, 3, 8, 7, 1, 9, 9, 2, 6, 7, 2, 6, 1, 3, 9, 4, 3, 3, 4, 6, 3, 7, 8, 1, 7, 0, 6, 7, 3, 3, 9, 5, 4, 0, 2, 3, 4, 2, 4, 7, 2, 2, 1, 0, 1, 3, 8, 8, 8, 4, 7, 9, 1, 8, 5, 4, 6, 2, 6, 7, 1, 5, 1, 0, 5, 2, 2, 3, 7, 4, 9, 8, 2, 7, 4, 9, 7, 3, 5, 4, 5, 7, 1, 6, 8, 2, 1, 8, 4, 0, 9, 2, 9, 9, 8, 0, 6, 1, 7, 0, 3, 9, 7, 8, 5, 4, 4, 9, 7, 9, 2, 4, 9, 8, 9, 7, 4, 6, 2, 2, 1, 4, 1, 3, 9, 6, 7, 4, 8, 7, 8, 8, 4, 4, 3, 5, 3, 0, 4, 9, 7, 2, 1, 2, 6, 9, 6, 3, 4, 1, 8, 8, 8, 9, 6, 0, 0, 1, 3, 4, 5, 1, 5, 0, 0, 3, 1, 6, 4, 1, 2, 1, 1, 7, 0, 4, 9, 8, 5, 4, 1, 1, 3, 3, 3, 6, 6, 1, 6, 2, 0, 0, 8, 9, 3, 0, 9, 5, 9, 4, 2, 8, 1, 0, 7, 3, 1, 5, 8, 8, 7, 0, 3, 0, 7, 1, 4, 9, 2, 0, 2, 8, 8, 8, 4, 4, 7, 4, 5, 9, 9, 2, 5, 4, 8, 6, 6, 3, 7, 2, 9, 1, 4, 3, 1, 2, 7, 7, 8, 1, 0, 8, 1, 9, 1, 4, 5, 4, 1, 0, 4, 7, 1, 0, 0, 0, 9, 7, 2, 9, 0, 7, 7, 3, 7, 0, 1, 7, 1, 6, 1, 9, 1, 9, 8, 1, 7, 2, 5, 4, 5, 0, 1, 8, 4, 2, 3, 5, 6, 9, 1, 9, 0, 4, 1, 1, 9, 6, 0, 2, 3, 5, 0, 3, 1, 6, 9, 2, 8, 5, 3, 6, 9, 2, 2, 1, 4, 4, 8, 4, 1, 9, 9, 2, 7, 5, 6, 7, 6, 7, 3, 8, 8, 2, 9, 6, 7, 4, 4, 1, 7, 1, 0, 0, 1, 8, 4, 3, 3, 4, 9, 8, 4, 1, 7, 0, 8, 4, 8, 3, 6, 7, 3, 3, 6, 1, 4, 9, 9, 9, 9, 0, 1, 2, 0, 1, 5, 0, 6, 7, 1, 4, 1, 4, 7, 8, 4, 1, 5, 9, 6, 6, 2, 9, 1, 7, 6, 8, 8, 1, 3, 5, 5, 1, 2, 6, 7, 0, 2, 1, 5, 3, 2, 3, 9, 9, 3, 4, 3, 6, 8, 4, 9, 0, 0, 3, 8, 6, 8, 7, 9, 9, 2, 1, 3, 5, 6, 1, 0, 3, 1, 8, 9, 1, 6, 2, 3, 4, 4, 9, 1, 0, 0, 9, 2, 9, 9, 3, 3, 8, 6, 1, 9, 7, 7, 6, 0, 4, 9, 7, 8, 2, 2, 7, 2, 7, 1, 0, 5, 8, 2, 8, 6, 4, 7, 5, 8, 5, 9, 8, 7, 7, 7, 5, 2, 8, 3, 8, 6, 0, 4, 0, 8, 4, 8, 1, 3, 0, 9, 1, 4, 3, 3, 3, 2, 8, 1, 1, 6, 0, 2, 0, 0, 5, 0, 5, 1, 7, 9, 6, 0, 7, 5, 2, 1, 1, 1, 4, 9, 8, 0, 2, 4, 5, 1, 9, 0, 8, 8, 9, 8, 6, 2, 4, 6, 9, 7, 9, 6, 6, 0, 5, 9, 8, 3, 6, 7, 4, 8, 7, 0, 2, 1, 3, 2, 4, 6, 9, 1, 3, 3, 2, 4, 8, 4, 3, 9, 4, 7, 0, 2, 8, 9, 3, 6, 9, 4, 3, 0, 5, 4, 3, 7, 3, 3, 2, 5, 6, 6, 0, 5, 9, 8, 8, 9, 5, 0, 9, 6, 9, 4, 7, 1, 5, 4, 8, 1, 9, 3, 5, 5, 1, 6, 8, 4, 6, 8, 0, 6, 0, 9, 4, 4, 5, 7, 6, 5, 7, 3, 6, 4, 4, 4, 0, 0, 1, 1, 2, 0, 8, 0, 5, 4, 4, 6, 7, 1, 5, 0, 7, 3, 3, 6, 1, 3, 0, 6, 2, 3, 4, 2, 6, 9, 2, 9, 3, 5, 1, 6, 1, 3, 7, 4, 6, 8, 3, 1, 8, 1, 0, 6, 3, 8, 1, 5, 2, 3, 5, 0, 1, 3, 6, 5, 7, 4, 7, 2, 0, 3, 8, 9, 5, 4, 7, 9, 4, 1, 4, 4, 6, 9, 9, 5, 2, 1, 4, 6, 7, 0, 6, 2, 5, 5, 4, 1, 2, 1, 6, 2, 1, 7, 4, 4, 6, 3, 4, 5, 5, 6, 9, 1, 2, 3, 1, 5, 0, 9, 7, 3, 3, 9, 3, 7, 1, 0, 6, 4, 1, 9, 3, 1, 0, 7, 5, 2, 4, 8, 0, 8, 4, 7, 6, 1, 2, 8, 2, 2, 3, 2, 5, 4, 1, 4, 3, 7, 5, 7, 7, 7, 9, 2, 3, 7, 2, 0, 0, 2, 3, 9, 8, 5, 6, 6, 4, 2, 6, 0, 1, 9, 3, 6, 7, 7, 7, 7, 0, 4, 0, 2, 5, 8, 4, 5, 7, 6, 5, 3, 9, 7, 8, 6, 8, 7, 0, 7, 9, 1, 1, 7, 1, 4, 0, 3, 7, 0, 9, 9, 6, 6, 6, 0, 1, 2, 0, 8, 1, 1, 4, 4, 6, 2, 7, 3, 2, 6, 2, 8, 6, 1, 0, 2, 7, 4, 0, 6, 8, 3, 1, 4, 7, 2, 3, 3, 4, 8, 4, 0, 1, 9, 6, 5, 2, 7, 2, 1, 2, 5, 0, 2, 8, 8, 6, 2, 8, 0, 7, 0, 2, 3, 6, 2, 4, 5, 0, 8, 3, 8, 5, 6, 8, 1, 3, 5, 5, 3, 9, 7, 5, 5, 0, 1, 1, 8, 4, 4, 0, 8, 4, 1, 0, 3, 4, 4, 6, 5, 8, 8, 9, 7, 7, 1, 2, 6, 4, 0, 5, 4, 3, 1, 6, 3, 6, 9, 5, 8, 7, 3, 9, 3, 5, 1, 5, 2, 1, 8, 0, 1, 3, 2, 5, 6, 5, 4, 2, 1, 1, 6, 9, 3, 1, 3, 4, 7, 1, 1, 5, 5, 0, 9, 5, 7, 3, 8, 3, 3, 5, 4, 5, 3, 1, 9, 4, 3, 7, 1, 2, 3, 9, 8, 2, 4, 8, 8, 4, 3, 6, 1, 1, 3, 9, 3, 4, 2, 4, 8, 4, 8, 0, 0, 3, 6, 5, 8, 7, 6, 6, 5, 2, 1, 7, 8, 9, 7, 8, 9, 4, 3, 7, 7, 0, 9, 4, 6, 6, 9, 7, 4, 2, 2, 5, 8, 0, 8, 3, 9, 3, 8, 3, 9, 2, 9, 0, 2, 4, 1, 2, 7, 2, 8, 5, 5, 5, 1, 3, 6, 0, 9, 1, 7, 1, 6, 5, 5, 7, 0, 0, 4, 7, 4, 1, 5, 2, 8, 8, 3, 7, 5, 8, 8, 5, 0, 7, 3, 7, 2, 0, 1, 7, 0, 1, 6, 8, 3, 1, 6, 8, 7, 0, 7, 1, 6, 6, 4, 6, 1, 3, 2, 1, 7, 8, 8, 1, 0, 0, 6, 6, 2, 5, 4, 6, 4, 1, 1, 4, 7, 5, 8, 0, 3, 9, 9, 5, 8, 3, 0, 2, 3, 0, 2, 2, 7, 0, 7, 0, 4, 6, 9, 7, 1, 5, 3, 7, 4, 4, 1, 5, 9, 3, 9, 0, 4, 8, 9, 2, 2, 1, 1, 7, 0, 9, 8, 8, 9, 9, 2, 9, 6, 5, 0, 8, 8, 1, 2, 2, 4, 3, 5, 6, 2, 0, 4, 7, 2, 9, 4, 9, 3, 0, 8, 2, 1, 4, 9, 9, 8, 0, 9, 2, 4, 9, 5, 0, 2, 1, 7, 1, 3, 7, 3, 3, 5, 4, 9, 3, 7, 5, 1, 5, 0, 8, 1, 2, 4, 2, 0, 8, 7, 0, 7, 8, 1, 0, 4, 8, 3, 3, 6, 3, 3, 1, 9, 9, 3, 1, 6, 6, 0, 0, 3, 4, 1, 2, 8, 7, 6, 7, 1, 6, 3, 1, 3, 9, 4, 1, 4, 8, 1, 0, 4, 0, 9, 2, 8, 3, 2, 7, 4, 0, 4, 8, 1, 0, 7, 1, 1, 9, 6, 0, 3, 0, 1, 7, 7, 8, 2, 1, 2, 7, 9, 7, 1, 0, 4, 0, 0, 8, 7, 6, 3, 3, 1, 2, 4, 2, 0, 0, 3, 3, 3, 0, 3, 9, 3, 0, 2, 8, 1, 0, 1, 7, 7, 0, 1, 7, 6, 3, 2, 4, 7, 2, 5, 0, 5, 5, 0, 7, 3, 8, 3, 4, 3, 3, 0, 2, 9, 8, 5, 3, 6, 2, 8, 9, 3, 1, 5, 8, 6, 1, 0, 3, 0, 7, 2, 1, 3, 4, 1, 1, 1, 1, 0, 7, 6, 0, 7, 6, 2, 6, 7, 5, 9, 9, 4, 5, 3, 8, 8, 8, 6, 7, 8, 8, 6, 8, 8, 0, 6, 7, 5, 0, 6, 7, 9, 7, 0, 7, 6, 2, 9, 1, 5, 0, 0, 4, 9, 0, 0, 8, 9, 7, 8, 6, 6, 7, 1, 7, 7, 1, 1, 5, 4, 8, 6, 7, 5, 7, 2, 4, 7, 3, 0, 7, 3, 6, 7, 8, 0, 6, 7, 3, 7, 0, 7, 0, 8, 1, 2, 1, 5, 1, 6, 1, 7, 5, 8, 8, 4, 8, 4, 3, 9, 7, 5, 1, 7, 5, 2, 1, 3, 6, 1, 1, 8, 6, 3, 9, 4, 2, 0, 4, 1, 9, 7, 5, 1, 2, 3, 8, 1, 2, 0, 1, 6, 5, 6, 7, 0, 6, 1, 6, 1, 2, 2, 1, 3, 9, 3, 3, 7, 6, 2, 9, 3, 4, 6, 1, 9, 3, 0, 0, 5, 1, 9, 7, 6, 7, 6, 0, 0, 4, 8, 8, 6, 0, 5, 5, 2, 3, 1, 6, 8, 7, 9, 5, 8, 8, 2, 5, 9, 4, 0, 8, 7, 5, 9, 5, 6, 9, 1, 9, 9, 5, 0, 8, 9, 0, 8, 7, 8, 6, 9, 0, 6, 1, 8, 6, 3, 0, 4, 6, 2, 3, 0, 6, 4, 6, 8, 2, 5, 0, 6, 8, 1, 5, 7, 7, 2, 6, 2, 4, 8, 8, 7, 9, 1, 1, 4, 3, 2, 2, 4, 6, 3, 2, 4, 5, 0, 4, 8, 4, 3, 2, 8, 0, 8, 4, 4, 3, 0, 1, 0, 3, 9, 9, 4, 0, 0, 5, 7, 7, 4, 2, 5, 7, 6, 4, 9, 8, 7, 2, 6, 2, 3, 3, 2, 5, 6, 8, 1, 9, 7, 9, 8, 5, 8, 8, 0, 9, 0, 2, 4, 2, 3, 8, 3, 5, 1, 1, 0, 6, 4, 5, 9, 3, 4, 4, 8, 2, 4, 4, 8, 8, 6, 6, 8, 7, 7, 9, 9, 6, 2, 1, 2, 7, 6, 4, 1, 9, 2, 0, 8, 9, 6, 8, 4, 3, 5, 1, 0, 6, 8, 0, 2, 3, 7, 6, 0, 0, 3, 4, 2, 0, 6, 2, 6, 1, 9, 1, 8, 6, 7, 9, 3, 9, 3, 7, 0, 2, 6, 3, 5, 8, 5, 7, 4, 3, 9, 0, 8, 4, 5, 3, 9, 7, 7, 6, 7, 9, 0, 2, 7, 2, 8, 1, 1, 2, 9, 4, 8, 4, 5, 1, 3, 3, 3, 4, 6, 4, 8, 7, 7, 2, 5, 4, 5, 4, 8, 8, 0, 9, 0, 1, 0, 9, 3, 6, 1, 0, 8, 3, 2, 1, 6, 8, 3, 7, 6, 5, 8, 8, 3, 6, 1, 6, 2, 4, 8, 7, 1, 1, 9, 1, 6, 0, 1, 3, 3, 8, 8, 3, 0, 1, 3, 0, 8, 0, 9, 2, 3, 9, 7, 5, 8, 6, 1, 7, 6, 8, 6, 4, 5, 1, 0, 3, 0, 7, 3, 3, 7, 4, 9, 7, 9, 4, 9, 0, 3, 0, 0, 9, 4, 4, 3, 0, 8, 6, 7, 2, 5, 6, 6, 9, 2, 4, 7, 6, 9, 9, 9, 8, 1, 2, 6, 0, 7, 7, 0, 0, 4, 7, 6, 3, 0, 2, 3, 9, 3, 2, 7, 2, 6, 7, 9, 1, 9, 9, 8, 2, 7, 9, 7, 6, 7, 4, 3, 7, 6, 7, 7, 5, 7, 1, 5, 9, 8, 3, 4, 0, 5, 3, 8, 7, 2, 4, 1, 9, 7, 8, 1, 2, 9, 3, 4, 1, 7, 4, 2, 7, 5, 6, 0, 8, 9, 6, 4, 4, 8, 3, 6, 9, 8, 7, 4, 9, 1, 3, 0, 3, 6, 0, 9, 5, 2, 7, 9, 4, 8, 3, 5, 8, 8, 1, 8, 1, 2, 4, 6, 3, 6, 6, 1, 3, 4, 7, 1, 1, 8, 2, 2, 6, 8, 1, 8, 4, 5, 8, 2, 3, 5, 3, 9, 2, 0, 1, 8, 2, 1, 0, 4, 6, 6, 8, 0, 1, 2, 1, 1, 0, 5, 8, 6, 4, 5, 8, 3, 1, 4, 1, 5, 6, 7, 9, 9, 8, 1, 6, 8, 1, 6, 3, 2, 3, 7, 0, 5, 2, 1, 6, 4, 2, 1, 2, 6, 7, 9, 4, 3, 9, 7, 9, 9, 2, 6, 6, 1, 7, 5, 9, 4, 6, 8, 3, 0, 6, 2, 2, 8, 0, 8, 6, 2, 0, 7, 3, 2, 4, 4, 3, 8, 6, 8, 0, 1, 3, 5, 8, 6, 8, 2, 8, 3, 6, 3, 2, 1, 3, 1, 6, 7, 6, 3, 6, 1, 0, 4, 1, 9, 7, 3, 7, 3, 7, 2, 6, 0, 7, 3, 7, 8, 0, 7, 7, 5, 9, 2, 7, 4, 5, 2, 1, 0, 5, 4, 7, 8, 8, 7, 7, 0, 9, 5, 9, 7, 2, 7, 7, 2, 1, 7, 0, 5, 2, 5, 0, 5, 9, 0, 3, 7, 3, 8, 7, 7, 6, 5, 3, 4, 4, 8, 1, 6, 2, 4, 3, 5, 1, 9, 4, 8, 0, 9, 0, 0, 1, 4, 2, 3, 1, 4, 6, 0, 6, 7, 1, 6, 1, 5, 3, 6, 2, 7, 4, 2, 1, 0, 3, 3, 3, 8, 2, 8, 6, 6, 1, 3, 3, 7, 5, 7, 4, 4, 7, 5, 4, 1, 2, 9, 3, 5, 5, 3, 7, 1, 1, 9, 8, 4, 9, 4, 0, 4, 1, 4, 1, 9, 8, 4, 7, 0, 9, 1, 9, 8, 7, 5, 9, 2, 9, 7, 0, 5, 0, 1, 3, 7, 4, 7, 1, 4, 7, 7, 7, 7, 7, 3, 6, 8, 3, 9, 3, 4, 8, 9, 3, 6, 2, 9, 3, 8, 6, 3, 0, 3, 8, 8, 5, 4, 2, 7, 5, 3, 1, 0, 0, 9, 9, 7, 6, 2, 8, 5, 5, 9, 0, 8, 2, 2, 9, 9, 4, 2, 3, 0, 6, 3, 7, 8, 4, 1, 5, 9, 6, 3, 9, 5, 1, 6, 6, 8, 6, 8, 0, 1, 8, 7, 9, 2, 8, 2, 3, 8, 8, 6, 5, 7, 6, 3, 1, 0, 4, 5, 0, 4, 1, 5, 0, 6, 6, 5, 4, 9, 2, 7, 1, 9, 3, 9, 2, 7, 1, 7, 1, 6, 6, 6, 3, 2, 6, 4, 7, 5, 7, 3, 3, 4, 0, 3, 9, 6, 4, 7, 5, 7, 3, 2, 1, 6, 2, 9, 1, 5, 4, 0, 3, 1, 3, 7, 0, 6, 8, 9, 0, 3, 0, 5, 2, 6, 2, 1, 7, 6, 6, 5, 2, 3, 0, 6, 1, 1, 0, 6, 6, 5, 7, 6, 3, 8, 1, 4, 2, 5, 7, 3, 4, 7, 6, 1, 9, 7, 5, 1, 7, 9, 2, 1, 7, 3, 2, 5, 2, 3, 7, 4, 9, 9, 9, 0, 6, 1, 4, 3, 0, 0, 4, 9, 1, 7, 2, 6, 1, 7, 7, 3, 8, 6, 3, 6, 5, 4, 0, 2, 1, 7, 5, 4, 1, 0, 0, 0, 2, 5, 1, 5, 8, 9, 3, 9, 2, 3, 5, 3, 3, 4, 6, 7, 6, 7, 1, 4, 6, 7, 7, 7, 7, 4, 6, 7, 0, 0, 5, 2, 9, 4, 2, 2, 0, 5, 9, 0, 5, 7, 2, 3, 9, 3, 9, 9, 2, 5, 1, 4, 8, 8, 6, 1, 8, 0, 8, 9, 9, 2, 2, 1, 9, 1, 6, 0, 3, 8, 9, 2, 5, 1, 7, 8, 0, 6, 9, 8, 3, 9, 3, 9, 2, 7, 2, 1, 9, 2, 9, 0, 0, 1, 7, 8, 2, 3, 8, 1, 1, 2, 8, 5, 8, 4, 2, 0, 5, 9, 2, 3, 7, 1, 3, 5, 8, 2, 2, 4, 8, 0, 3, 7, 1, 1, 4, 9, 6, 6, 2, 8, 4, 1, 1, 7, 1, 7, 8, 8, 8, 6, 1, 1, 0, 2, 8, 2, 4, 4, 3, 2, 3, 6, 4, 4, 0, 1, 8, 4, 1, 3, 5, 1, 9, 2, 4, 6, 8, 5, 8, 0, 6, 7, 8, 5, 8, 7, 6, 4, 8, 8, 5, 9, 4, 3, 8, 2, 4, 8, 3, 8, 1, 6, 3, 0, 0, 3, 3, 1, 4, 6, 8, 8, 3, 3, 9, 8, 1, 3, 6, 6, 6, 2, 4, 8, 0, 8, 2, 1, 6, 1, 1, 5, 8, 3, 0, 1, 8, 2, 9, 6, 1, 4, 9, 7, 1, 0, 6, 1, 3, 4, 0, 4, 9, 6, 4, 6, 1, 3, 1, 9, 2, 2, 8, 2, 5, 4, 8, 6, 7, 4, 9, 4, 6, 6, 3, 6, 1, 5, 8, 3, 1, 4, 1, 0, 4, 7, 7, 1, 5, 8, 1, 9, 7, 3, 1, 6, 2, 1, 7, 7, 7, 4, 0, 1, 0, 2, 4, 8, 8, 3, 3, 0, 2, 5, 9, 2, 7, 8, 0, 0, 7, 6, 7, 4, 5, 9, 3, 9, 7, 8, 0, 3, 9, 9, 4, 7, 0, 6, 6, 9, 5, 8, 3, 0, 1, 3, 6, 8, 7, 6, 0, 6, 4, 5, 6, 7, 2, 5, 7, 0, 7, 7, 7, 1, 9, 8, 1, 4, 0, 2, 1, 5, 7, 0, 4, 3, 3, 6, 1, 2, 5, 6, 6, 2, 7, 0, 5, 3, 7, 4, 4, 9, 7, 3, 5, 0, 3, 3, 8, 7, 3, 0, 7, 1, 6, 3, 5, 7, 5, 0, 1, 9, 9, 2, 4, 1, 9, 0, 4, 0, 4, 7, 5, 9, 4, 8, 5, 5, 6, 6, 2, 5, 0, 8, 1, 7, 4, 7, 3, 0, 0, 8, 2, 3, 8, 7, 7, 1, 6, 2, 3, 3, 7, 7, 2, 4, 4, 8, 6, 4, 2, 4, 7, 2, 3, 0, 1, 4, 1, 1, 7, 6, 5, 7, 2, 7, 0, 4, 6, 5, 5, 2, 6, 3, 1, 4, 5, 6, 2, 7, 2, 1, 4, 7, 0, 0, 8, 2, 8, 0, 0, 3, 6, 2, 4, 8, 8, 7, 1, 6, 5, 0, 2, 4, 2, 5, 0, 4, 5, 4, 0, 7, 6, 1, 4, 5, 9, 4, 6, 3, 0, 8, 5, 0, 1, 9, 4, 1, 6, 2, 7, 0, 0, 6, 7, 7, 8, 3, 8, 5, 6, 7, 3, 9, 3, 5, 5, 1, 2, 6, 5, 2, 6, 5, 6, 4, 6, 3, 1, 3, 8, 1, 9, 6, 4, 5, 9, 4, 5, 2, 1, 3, 2, 7, 7, 1, 8, 8, 8, 1, 5, 6, 3, 8, 1, 0, 7, 4, 5, 2, 7, 1, 5, 2, 1, 6, 6, 3, 1, 2, 3, 3, 3, 4, 3, 8, 8, 1, 9, 2, 6, 4, 1, 2, 3, 2, 7, 4, 6, 2, 5, 2, 4, 3, 0, 9, 6, 0, 3, 9, 1, 7, 7, 4, 7, 6, 8, 0, 0, 9, 8, 7, 5, 0, 3, 0, 6, 3, 8, 4, 9, 5, 4, 0, 6, 8, 8, 0, 3, 6, 8, 8, 1, 2, 8, 1, 9, 1, 6, 9, 9, 1, 7, 1, 9, 2, 3, 0, 7, 1, 0, 0, 4, 0, 7, 7, 1, 9, 1, 7, 5, 5, 3, 2, 6, 3, 3, 8, 0, 1, 5, 1, 5, 8, 7, 8, 7, 3, 0, 1, 8, 0, 8, 6, 1, 1, 5, 7, 0, 0, 7, 8, 7, 2, 8, 4, 9, 0, 1, 2, 6, 4, 6, 5, 6, 2, 7, 4, 5, 8, 8, 6, 7, 8, 2, 9, 7, 5, 1, 3, 2, 5, 0, 4, 1, 3, 5, 8, 6, 5, 9, 8, 7, 7, 6, 0, 7, 5, 0, 9, 3, 5, 4, 6, 2, 5, 8, 1, 1, 9, 3, 6, 7, 5, 2, 5, 9, 2, 3, 3, 6, 0, 5, 9, 5, 4, 5, 7, 4, 7, 5, 6, 5, 1, 6, 3, 4, 7, 5, 6, 0, 4, 1, 7, 6, 5, 6, 7, 2, 3, 5, 5, 3, 0, 5, 6, 1, 4, 4, 4, 5, 3, 9, 4, 5, 9, 7, 9, 8, 4, 4, 4, 7, 5, 2, 9, 9, 4, 7, 2, 3, 0, 2, 8, 8, 2, 7, 2, 5, 5, 1, 2, 5, 8, 6, 0, 8, 2, 0, 9, 4, 3, 8, 1, 6, 1, 5, 8, 4, 1, 0, 1, 5, 6, 7, 5, 2, 6, 6, 6, 1, 5, 7, 7, 0, 3, 7, 1, 6, 2, 6, 7, 3, 5, 2, 7, 0, 4, 0, 8, 5, 1, 2, 2, 0, 8, 5, 3, 5, 8, 7, 0, 4, 7, 1, 3, 3, 1, 4, 4, 7, 1, 7, 7, 2, 4, 6, 6, 1, 4, 3, 6, 6, 8, 7, 6, 0, 6, 2, 7, 3, 4, 9, 4, 1, 8, 1, 9, 7, 1, 1, 1, 2, 5, 2, 3, 6, 3, 1, 4, 8, 9, 6, 3, 4, 1, 3, 6, 8, 1, 6, 8, 2, 6, 4, 4, 1, 6, 5, 6, 5, 4, 1, 7, 8, 5, 3, 4, 5, 0, 8, 9, 3, 8, 3, 0, 8, 0, 4, 9, 5, 0, 7, 1, 6, 4, 2, 7, 1, 1, 2, 2, 2, 0, 6, 5, 4, 6, 5, 5, 9, 6, 6, 5, 5, 9, 9, 6, 9, 9, 9, 4, 9, 6, 5, 3, 2, 7, 8, 3, 9, 2, 1, 5, 9, 7, 2, 0, 0, 6, 9, 7, 3, 6, 8, 1, 7, 7, 2, 7, 3, 9, 0, 1, 6, 4, 8, 3, 9, 2, 8, 7, 5, 4, 5, 7, 1, 1, 3, 2, 1, 2, 5, 9, 1, 7, 2, 0, 4, 8, 6, 2, 0, 4, 7, 5, 7, 7, 2, 6, 3, 1, 8, 9, 2, 9, 4, 3, 0, 5, 8, 6, 4, 8, 3, 0, 8, 3, 7, 1, 3, 7, 0, 2, 6, 4, 1, 0, 6, 0, 0, 0, 3, 7, 0, 2, 3, 9, 6, 8, 1, 7, 1, 1, 3, 5, 1, 1, 2, 7, 5, 3, 1, 7, 4, 9, 9, 4, 9, 9, 6, 5, 0, 0, 2, 3, 5, 9, 3, 5, 3, 2, 9, 6, 8, 8, 5, 9, 6, 1, 1, 7, 7, 5, 3, 1, 6, 3, 8, 5, 4, 1, 8, 7, 4, 0, 8, 0, 0, 1, 9, 0, 3, 1, 5, 0, 2, 2, 1, 7, 3, 5, 9, 4, 0, 6, 2, 6, 1, 4, 9, 7, 3, 0, 1, 2, 0, 7, 8, 7, 7, 4, 7, 1, 8, 4, 6, 2, 8, 1, 2, 5, 9, 8, 6, 7, 0, 9, 9, 1, 7, 2, 6, 8, 0, 8, 2, 7, 5, 4, 3, 7, 1, 4, 1, 6, 2, 8, 3, 3, 3, 1, 2, 1, 7, 1, 3, 5, 7, 3, 8, 0, 1, 4, 3, 3, 8, 7, 4, 5, 1, 1, 7, 0, 5, 4, 7, 1, 4, 1, 6, 0, 2, 3, 3, 0, 8, 5, 7, 5, 8, 3, 6, 3, 1, 8, 8, 4, 4, 4, 7, 1, 3, 9, 6, 7, 8, 7, 0, 8, 0, 0, 6, 7, 6, 8, 3, 2, 1, 8, 3, 8, 0, 5, 1, 2, 9, 6, 6, 6, 1, 3, 7, 4, 7, 3, 8, 1, 1, 7, 1, 9, 8, 1, 7, 8, 6, 5, 5, 3, 7, 8, 1, 5, 8, 3, 9, 9, 0, 3, 6, 9, 8, 9, 8, 3, 0, 4, 1, 1, 4, 7, 3, 0, 1, 6, 8, 8, 3, 9, 0, 9, 0, 4, 9, 3, 5, 9, 2, 2, 4, 4, 6, 9, 9, 9, 5, 6, 1, 6, 1, 1, 1, 0, 8, 6, 3, 1, 9, 2, 2, 1, 2, 2, 0, 6, 1, 0, 6, 2, 1, 9, 4, 0, 7, 5, 0, 9, 6, 7, 6, 9, 7, 6, 9, 9, 8, 5, 7, 3, 4, 7, 6, 5, 7, 6, 6, 8, 3, 1, 7, 0, 9, 5, 2, 2, 9, 7, 3, 9, 6, 3, 8, 0, 7, 5, 9, 0, 4, 1, 6, 1, 3, 7, 7, 6, 6, 4, 5, 1, 6, 0, 7, 1, 3, 1, 2, 8, 0, 2, 0, 4, 7, 5, 6, 7, 7, 1, 5, 7, 6, 1, 9, 6, 4, 8, 3, 1, 4, 0, 6, 5, 2, 7, 4, 5, 0, 7, 9, 9, 5, 1, 5, 2, 9, 9, 4, 0, 5, 4, 4, 8, 8, 4, 0, 2, 6, 9, 6, 4, 1, 9, 6, 4, 0, 5, 6, 8, 0, 2, 8, 3, 1, 2, 0, 5, 8, 9, 2, 2, 7, 6, 4, 3, 9, 7, 7, 4, 8, 3, 4, 5, 0, 0, 5, 8, 3, 9, 5, 6, 1, 3, 6, 1, 2, 7, 3, 6, 0, 1, 7, 9, 9, 0, 7, 2, 6, 2, 5, 9, 7, 0, 2, 0, 9, 7, 6, 6, 4, 4, 4, 7, 7, 6, 8, 5, 8, 7, 5, 4, 1, 2, 5, 5, 4, 1, 3, 5, 9, 5, 3, 3, 1, 7, 4, 5, 2, 5, 2, 5, 0, 7, 3, 3, 5, 1, 0, 1, 0, 0, 2, 7, 5, 2, 4, 4, 3, 1, 9, 1, 2, 4, 4, 9, 1, 3, 8, 4, 2, 9, 7, 8, 4, 2, 3, 9, 7, 7, 6, 1, 1, 1, 1, 0, 3, 7, 8, 7, 1, 7, 1, 6, 9, 5, 6, 4, 0, 3, 8, 0, 3, 4, 3, 5, 1, 0, 8, 3, 7, 8, 1, 1, 7, 0, 7, 1, 2, 0, 2, 7, 1, 4, 4, 7, 7, 5, 2, 3, 6, 4, 3, 8, 9, 4, 4, 2, 6, 9, 3, 0, 1, 8, 7, 8, 1, 9, 1, 3, 1, 1, 8, 5, 1, 7, 1, 3, 8, 0, 1, 0, 4, 2, 6, 0, 6, 7, 0, 6, 5, 7, 1, 4, 0, 0, 2, 7, 1, 8, 8, 3, 9, 5, 4, 3, 7, 7, 8, 1, 3, 6, 3, 4, 1, 6, 7, 7, 2, 7, 0, 5, 7, 0, 6, 2, 7, 0, 6, 9, 4, 1, 5, 7, 3, 8, 4, 4, 4, 2, 2, 2, 9, 5, 0, 7, 3, 0, 9, 6, 4, 6, 7, 4, 0, 1, 7, 1, 8, 4, 1, 1, 2, 1, 9, 2, 0, 4, 2, 0, 2, 6, 2, 3, 9, 5, 1, 3, 5, 1, 5, 1, 8, 2, 6, 8, 4, 1, 5, 7, 1, 5, 0, 9, 4, 2, 5, 7, 8, 7, 2, 6, 0, 2, 1, 5, 9, 7, 7, 2, 2, 8, 8, 0, 7, 1, 4, 7, 7, 8, 7, 7, 3, 3, 0, 6, 2, 0, 1, 7, 2, 8, 1, 6, 3, 4, 1, 1, 8, 8, 1, 0, 2, 8, 2, 1, 3, 0, 7, 1, 2, 3, 8, 6, 8, 6, 9, 7, 6, 3, 1, 4, 4, 2, 3, 1, 4, 6, 3, 0, 7, 3, 6, 1, 8, 5, 2, 9, 2, 1, 8, 9, 5, 6, 9, 9, 3, 2, 1, 7, 3, 0, 5, 7, 8, 8, 0, 9, 9, 2, 3, 4, 3, 4, 0, 4, 7, 1, 1, 8, 4, 8, 5, 9, 2, 3, 7, 0, 6, 3, 6, 7, 4, 5, 3, 1, 6, 9, 1, 4, 2, 5, 2, 9, 7, 3, 3, 3, 7, 1, 3, 6, 1, 7, 1, 7, 3, 3, 9, 1, 6, 1, 6, 3, 6, 4, 8, 8, 1, 8, 3, 1, 5, 4, 6, 0, 4, 3, 9, 4, 1, 3, 5, 9, 7, 9, 4, 8, 4, 1, 9, 1, 5, 8, 0, 8, 9, 8, 1, 2, 4, 7, 0, 8, 4, 0, 9, 4, 9, 3, 6, 2, 5, 1, 9, 3, 8, 4, 2, 5, 7, 9, 2, 9, 3, 0, 2, 9, 1, 0, 5, 7, 8, 2, 3, 2, 0, 4, 0, 7, 0, 3, 8, 0, 0, 7, 4, 3, 0, 3, 3, 4, 0, 8, 9, 8, 1, 6, 6, 2, 3, 4, 6, 8, 0, 4, 3, 3, 9, 4, 8, 6, 9, 7, 0, 7, 0, 8, 0, 2, 6, 4, 5, 5, 9, 9, 1, 1, 4, 3, 7, 2, 8, 2, 3, 9, 7, 4, 2, 8, 5, 6, 7, 6, 9, 2, 7, 5, 6, 0, 8, 0, 9, 0, 2, 5, 1, 8, 1, 0, 2, 2, 4, 6, 4, 4, 1, 2, 1, 3, 9, 6, 9, 2, 0, 2, 9, 4, 9, 8, 6, 3, 5, 1, 8, 6, 0, 0, 5, 1, 3, 0, 5, 5, 0, 0, 9, 0, 4, 3, 1, 2, 6, 1, 7, 1, 9, 9, 2, 5, 2, 2, 2, 1, 1, 1, 0, 9, 4, 3, 3, 7, 4, 1, 7, 8, 8, 6, 3, 9, 0, 3, 7, 9, 7, 9, 6, 9, 7, 0, 1, 8, 8, 8, 7, 7, 4, 3, 6, 9, 9, 1, 3, 6, 3, 6, 1, 3, 0, 1, 7, 4, 0, 3, 8, 6, 1, 4, 5, 4, 6, 0, 9, 4, 9, 3, 2, 7, 4, 3, 8, 3, 7, 9, 5, 4, 5, 2, 0, 6, 0, 4, 9, 3, 6, 8, 5, 8, 8, 8, 2, 7, 7, 9, 1, 3, 0, 4, 8, 1, 3, 0, 0, 5, 9, 8, 6, 4, 7, 3, 0, 7, 7, 0, 2, 3, 3, 1, 5, 3, 9, 3, 2, 8, 6, 0, 8, 0, 3, 8, 8, 4, 6, 5, 5, 6, 4, 7, 3, 1, 3, 0, 3, 6, 5, 2, 0, 5, 1, 3, 3, 5, 6, 9, 7, 2, 6, 5, 9, 9, 7, 8, 8, 9, 9, 8, 2, 9, 1, 3, 8, 8, 1, 6, 4, 7, 6, 8, 5, 8, 4, 1, 2, 8, 2, 7, 9, 2, 7, 5, 4, 1, 9, 1, 1, 3, 6, 1, 7, 4, 1, 0, 7, 9, 5, 2, 5, 2, 9, 4, 0, 2, 7, 6, 3, 0, 3, 9, 1, 2, 8, 3, 1, 3, 2, 6, 1, 8, 5, 1, 7, 9, 2, 6, 7, 3, 1, 1, 0, 9, 4, 6, 9, 7, 7, 6, 3, 3, 1, 1, 6, 7, 9, 7, 1, 8, 3, 8, 3, 7, 6, 2, 9, 8, 9, 8, 4, 0, 8, 0, 2, 1, 7, 8, 0, 8, 2, 2, 8, 6, 8, 7, 3, 8, 7, 2, 8, 3, 1, 2, 1, 5, 5, 2, 2, 1, 6, 1, 5, 2, 1, 7, 8, 7, 3, 5, 3, 8, 5, 3, 4, 7, 0, 7, 9, 5, 8, 5, 8, 5, 7, 5, 6, 8, 8, 2, 0, 6, 8, 4, 0, 8, 3, 1, 0, 3, 3, 1, 3, 0, 0, 7, 6, 2, 5, 9, 2, 7, 6, 1, 0, 4, 4, 8, 3, 1, 4, 1, 8, 3, 5, 8, 6, 7, 0, 5, 2, 0, 3, 9, 6, 8, 6, 9, 4, 6, 6, 3, 6, 5, 3, 4, 7, 8, 6, 8, 2, 0, 4, 0, 2, 9, 5, 1, 9, 2, 4, 9, 8, 8, 8, 3, 9, 0, 5, 0, 6, 1, 7, 3, 3, 4, 0, 3, 4, 1, 7, 1, 1, 1, 9, 7, 2, 8, 5, 8, 1, 5, 5, 5, 3, 2, 9, 2, 2, 0, 0, 6, 4, 5, 2, 9, 7, 8, 3, 9, 2, 2, 1, 0, 6, 1, 9, 6, 9, 2, 1, 4, 7, 4, 8, 7, 6, 9, 6, 7, 2, 7, 4, 2, 2, 9, 9, 4, 4, 8, 1, 2, 7, 9, 4, 1, 2, 7, 1, 5, 8, 2, 8, 2, 3, 7, 2, 0, 7, 6, 6, 7, 7, 3, 9, 5, 4, 0, 1, 7, 1, 4, 0, 6, 7, 4, 1, 1, 5, 4, 2, 3, 1, 6, 6, 3, 6, 2, 6, 7, 2, 3, 5, 7, 1, 5, 2, 8, 3, 3, 1, 3, 9, 6, 8, 4, 0, 9, 7, 0, 7, 3, 2, 0, 7, 4, 5, 6, 1, 6, 8, 0, 7, 1, 7, 7, 2, 1, 4, 4, 0, 9, 3, 8, 7, 4, 2, 1, 3, 2, 3, 3, 9, 8, 8, 6, 8, 2, 9, 9, 3, 3, 1, 7, 1, 1, 4, 7, 7, 5, 8, 8, 4, 1, 6, 1, 3, 5, 9, 9, 2, 1, 7, 0, 6, 7, 5, 3, 8, 3, 4, 7, 1, 0, 2, 2, 3, 9, 7, 8, 7, 2, 1, 5, 7, 7, 9, 5, 0, 6, 3, 5, 8, 9, 8, 3, 0, 4, 8, 1, 8, 1, 3, 3, 9, 2, 1, 4, 8, 5, 4, 1, 4, 3, 2, 0, 6, 7, 2, 2, 2, 5, 5, 3, 7, 4, 2, 3, 3, 0, 5, 0, 4, 3, 6, 6, 6, 3, 2, 4, 1, 3, 7, 9, 5, 4, 7, 1, 0, 0, 3, 3, 2, 7, 2, 8, 8, 5, 4, 2, 0, 0, 3, 7, 1, 1, 7, 4, 3, 7, 3, 3, 4, 1, 8, 0, 8, 1, 5, 8, 1, 2, 3, 2, 7, 9, 0, 3, 0, 1, 5, 9, 9, 2, 6, 0, 1, 6, 8, 3, 5, 2, 2, 1, 8, 2, 3, 2, 5, 4, 3, 3, 8, 5, 8, 6, 2, 5, 0, 6, 5, 1, 4, 3, 5, 1, 0, 1, 4, 6, 5, 5, 1, 7, 2, 8, 0, 6, 2, 3, 5, 2, 4, 3, 9, 5, 1, 5, 2, 4, 8, 9, 6, 3, 0, 1, 0, 6, 6, 0, 4, 2, 8, 0, 1, 6, 4, 2, 9, 2, 5, 7, 0, 5, 9, 0, 1, 9, 2, 1, 0, 5, 2, 4, 8, 4, 2, 4, 7, 2, 7, 3, 5, 7, 5, 5, 8, 1, 1, 4, 2, 0, 5, 4, 8, 1, 3, 2, 5, 1, 0, 9, 1, 2, 6, 3, 8, 3, 5, 5, 5, 6, 6, 5, 7, 7, 6, 7, 8, 5, 8, 8, 6, 1, 6, 7, 4, 0, 2, 6, 6, 8, 5, 4, 9, 7, 4, 6, 1, 9, 3, 9, 6, 4, 7, 5, 3, 1, 6, 9, 2, 3, 8, 6, 5, 5, 4, 0, 1, 2, 3, 0, 6, 5, 3, 8, 2, 6, 1, 8, 0, 0, 0, 8, 6, 4, 7, 3, 3, 6, 7, 4, 3, 3, 2, 1, 0, 4, 7, 7, 8, 3, 1, 1, 5, 2, 9, 1, 0, 2, 9, 0, 8, 2, 1, 0, 9, 5, 0, 7, 4, 1, 7, 2, 4, 8, 5, 8, 2, 1, 2, 3, 5, 6, 5, 0, 1, 7, 8, 2, 5, 0, 6, 8, 1, 5, 4, 5, 8, 2, 4, 7, 4, 3, 1, 1, 1, 1, 9, 0, 5, 8, 4, 3, 4, 4, 9, 9, 3, 0, 3, 7, 3, 3, 4, 4, 0, 0, 6, 7, 4, 7, 2, 7, 8, 9, 5, 9, 2, 1, 3, 7, 0, 2, 1, 6, 3, 2, 7, 5, 8, 6, 9, 3, 0, 1, 3, 7, 6, 2, 6, 6, 4, 5, 7, 5, 4, 1, 8, 3, 3, 5, 3, 9, 0, 2, 5, 5, 4, 7, 0, 1, 7, 0, 0, 2, 4, 7, 1, 3, 5, 8, 4, 0, 8, 4, 4, 2, 2, 4, 6, 1, 7, 8, 5, 9, 5, 3, 6, 6, 6, 3, 6, 3, 9, 5, 6, 3, 8, 1, 3, 5, 0, 2, 2, 0, 0, 5, 0, 9, 7, 3, 9, 4, 4, 5, 7, 1, 0, 1, 7, 6, 2, 4, 6, 3, 5, 1, 7, 8, 5, 3, 8, 2, 4, 3, 1, 9, 1, 2, 3, 9, 6, 6, 4, 0, 4, 8, 0, 8, 2, 9, 7, 7, 0, 2, 6, 2, 3, 5, 7, 0, 7, 5, 6, 8, 1, 9, 1, 2, 3, 1, 3, 2, 6, 1, 9, 0, 6, 0, 0, 5, 4, 9, 1, 9, 9, 8, 8, 0, 1, 7, 6, 9, 4, 8, 6, 4, 3, 3, 6, 5, 1, 1, 0, 4, 1, 9, 7, 2, 1, 7, 0, 4, 4, 3, 0, 6, 8, 3, 0, 5, 0, 4, 8, 4, 7, 6, 3, 3, 9, 6, 3, 1, 3, 8, 2, 7, 6, 1, 2, 0, 3, 2, 9, 7, 4, 9, 6, 4, 3, 8, 2, 8, 6, 1, 0, 5, 9, 9, 3, 6, 3, 9, 9, 0, 6, 2, 1, 4, 6, 1, 4, 1, 7, 7, 2, 9, 4, 9, 2, 3, 2, 4, 1, 0, 0, 3, 0, 1, 1, 8, 4, 6, 2, 5, 0, 3, 3, 2, 7, 2, 0, 1, 7, 5, 3, 2, 5, 1, 6, 2, 1, 9, 5, 4, 6, 2, 5, 5, 7, 1, 4, 5, 4, 8, 3, 1, 5, 1, 0, 0, 9, 5, 9, 6, 5, 2, 9, 2, 6, 0, 1, 3, 2, 4, 3, 1, 1, 7, 7, 3, 0, 3, 0, 2, 7, 6, 1, 8, 0, 3, 8, 7, 5, 8, 8, 4, 6, 7, 7, 2, 7, 8, 3, 9, 9, 9, 1, 0, 9, 5, 6, 0, 3, 4, 1, 9, 1, 5, 4, 2, 4, 9, 9, 8, 7, 8, 8, 1, 6, 2, 5, 4, 8, 3, 2, 3, 7, 9, 3, 4, 3, 9, 4, 3, 1, 3, 2, 3, 4, 7, 5, 9, 4, 3, 4, 8, 6, 9, 2, 1, 7, 6, 3, 1, 1, 6, 7, 9, 1, 4, 5, 4, 9, 2, 0, 1, 6, 1, 0, 3, 8, 0, 0, 6, 8, 0, 7, 2, 7, 0, 8, 8, 0, 1, 0, 0, 0, 1, 0, 9, 1, 4, 3, 8, 5, 4, 7, 8, 2, 9, 9, 9, 5, 9, 8, 4, 0, 9, 3, 5, 2, 4, 8, 9, 6, 0, 2, 8, 0, 9, 8, 6, 6, 6, 8, 4, 3, 6, 8, 1, 2, 8, 6, 6, 5, 5, 9, 3, 0, 5, 0, 6, 6, 4, 1, 1, 1, 6, 3, 5, 5, 5, 3, 0, 7, 9, 6, 3, 7, 6, 4, 9, 2, 9, 0, 0, 0, 5, 3, 5, 0, 5, 3, 0, 4, 5, 1, 7, 2, 1, 7, 8, 7, 0, 4, 6, 3, 4, 8, 9, 4, 6, 2, 0, 1, 3, 0, 9, 4, 1, 7, 1, 9, 2, 1, 1, 6, 1, 7, 1, 0, 9, 0, 0, 6, 9, 7, 6, 5, 3, 4, 9, 6, 4, 7, 7, 9, 2, 0, 6, 6, 7, 1, 9, 5, 8, 4, 9, 2, 0, 9, 6, 2, 6, 9, 8, 4, 9, 9, 8, 5, 0, 5, 8, 1, 7, 6, 6, 5, 2, 5, 6, 5, 4, 4, 8, 6, 8, 7, 7, 1, 0, 0, 1, 3, 6, 1, 0, 5, 4, 0, 4, 4, 5, 1, 1, 0, 7, 7, 5, 3, 5, 0, 5, 4, 4, 8, 2, 1, 5, 4, 3, 4, 8, 2, 1, 5, 4, 3, 7, 9, 6, 7, 4, 6, 2, 9, 1, 0, 8, 0, 6, 9, 2, 9, 2, 3, 6, 8, 9, 1, 4, 5, 5, 4, 3, 1, 2, 4, 7, 6, 4, 8, 8, 4, 5, 9, 7, 8, 5, 6, 2, 5, 6, 9, 3, 9, 5, 5, 9, 7, 3, 7, 9, 6, 4, 8, 4, 7, 2, 1, 9, 2, 5, 9, 7, 5, 0, 6, 5, 6, 9, 2, 1, 6, 4, 4, 3, 1, 0, 5, 1, 9, 8, 3, 0, 7, 9, 0, 5, 2, 4, 2, 2, 5, 4, 6, 0, 4, 9, 3, 3, 1, 5, 3, 3, 2, 6, 0, 3, 5, 3, 9, 1, 7, 4, 2, 7, 8, 0, 7, 8, 6, 1, 2, 8, 8, 9, 8, 2, 7, 4, 0, 5, 7, 4, 8, 7, 8, 0, 7, 4, 8, 0, 3, 6, 6, 4, 3, 9, 9, 8, 2, 2, 8, 1, 1, 8, 1, 9, 4, 6, 7, 8, 9, 6, 5, 4, 9, 9, 6, 6, 0, 7, 1, 3, 8, 7, 4, 2, 1, 7, 0, 5, 0, 4, 8, 2, 7, 0, 7, 4, 3, 2, 4, 7, 8, 1, 0, 6, 2, 0, 4, 5, 6, 1, 3, 8, 5, 9, 2, 8, 3, 6, 8, 1, 7, 3, 6, 1, 5, 3, 6, 3, 9, 2, 5, 6, 1, 9, 2, 8, 4, 1, 0, 4, 6, 0, 1, 3, 5, 9, 9, 1, 1, 4, 5, 2, 0, 9, 5, 2, 6, 7, 3, 4, 6, 2, 9, 6, 0, 1, 0, 1, 5, 6, 3, 1, 7, 3, 3, 7, 8, 8, 0, 6, 8, 2, 1, 2, 5, 0, 5, 4, 1, 0, 1, 2, 8, 6, 1, 4, 1, 0, 7, 4, 1, 1, 7, 7, 5, 0, 2, 7, 1, 0, 6, 7, 9, 3, 0, 9, 2, 3, 4, 3, 4, 9, 0, 2, 4, 3, 0, 2, 6, 1, 1, 0, 0, 3, 6, 5, 6, 1, 2, 0, 8, 8, 8, 3, 7, 1, 7, 7, 3, 4, 8, 8, 5, 7, 0, 9, 9, 9, 4, 8, 7, 9, 6, 1, 1, 1, 0, 2, 2, 3, 8, 9, 6, 3, 5, 7, 4, 2, 9, 2, 1, 2, 2, 0, 0, 0, 6, 3, 7, 4, 1, 6, 1, 3, 7, 8, 8, 9, 3, 4, 6, 7, 1, 1, 8, 1, 0, 8, 3, 5, 4, 5, 1, 5, 1, 0, 0, 5, 0, 8, 6, 3, 2, 8, 4, 3, 6, 7, 2, 0, 1, 0, 9, 1, 2, 6, 3, 8, 7, 2, 0, 5, 6, 4, 5, 4, 8, 2, 3, 1, 6, 9, 2, 7, 0, 8, 8, 7, 3, 1, 6, 6, 1, 8, 5, 0, 1, 3, 7, 7, 6, 1, 0, 7, 5, 2, 2, 9, 5, 1, 7, 3, 4, 5, 8, 1, 8, 3, 9, 7, 2, 3, 0, 4, 4, 6, 4, 4, 8, 2, 5, 7, 5, 1, 4, 7, 0, 3, 3, 2, 4, 9, 3, 0, 1, 8, 8, 8, 1, 3, 2, 1, 3, 9, 3, 4, 3, 8, 4, 4, 2, 3, 5, 4, 5, 1, 0, 9, 2, 9, 8, 3, 5, 3, 2, 1, 6, 8, 6, 8, 7, 8, 3, 7, 6, 7, 5, 2, 7, 5, 2, 6, 7, 8, 9, 2, 6, 1, 9, 8, 7, 4, 9, 6, 2, 5, 5, 7, 9, 7, 0, 9, 3, 5, 3, 2, 7, 1, 6, 4, 0, 1, 7, 6, 0, 3, 3, 1, 8, 7, 5, 6, 8, 8, 3, 0, 0, 2, 7, 3, 3, 9, 7, 8, 8, 3, 6, 1, 6, 2, 2, 7, 5, 9, 8, 1, 1, 0, 2, 9, 3, 2, 7, 8, 7, 6, 7, 4, 4, 9, 3, 8, 1, 1, 1, 4, 9, 7, 2, 5, 7, 8, 8, 0, 9, 0, 0, 7, 9, 9, 0, 2, 9, 6, 5, 8, 0, 1, 4, 9, 0, 2, 4, 8, 6, 7, 4, 4, 0, 2, 7, 4, 9, 5, 9, 2, 5, 5, 1, 1, 0, 8, 9, 4, 6, 8, 6, 5, 4, 8, 3, 9, 1, 5, 1, 8, 6, 0, 8, 6, 9, 8, 7, 1, 0, 8, 9, 8, 7, 1, 5, 5, 9, 5, 9, 0, 9, 7, 7, 5, 9, 6, 2, 3, 1, 2, 4, 7, 7, 1, 6, 9, 7, 3, 2, 7, 2, 6, 3, 8, 3, 5, 2, 4, 6, 1, 4, 5, 7, 1, 0, 4, 7, 6, 8, 6, 7, 6, 4, 3, 9, 3, 1, 1, 4, 8, 1, 9, 1, 4, 1, 2, 5, 1, 5, 5, 4, 5, 4, 9, 6, 5, 1, 3, 6, 1, 3, 2, 5, 5, 4, 2, 5, 7, 2, 2, 2, 7, 7, 8, 0, 6, 5, 4, 6, 3, 2, 7, 8, 2, 6, 1, 8, 3, 3, 7, 4, 8, 4, 4, 0, 3, 4, 1, 8, 7, 1, 4, 2, 7, 5, 1, 1, 6, 4, 7, 4, 9, 7, 8, 0, 0, 4, 1, 7, 6, 1, 4, 2, 1, 5, 6, 7, 0, 3, 4, 0, 9, 0, 2, 7, 1, 6, 6, 7, 3, 6, 1, 0, 0, 7, 9, 1, 1, 2, 2, 3, 0, 3, 5, 0, 1, 3, 9, 7, 8, 2, 8, 1, 9, 6, 7, 8, 1, 1, 0, 6, 8, 5, 6, 0, 0, 0, 2, 6, 1, 6, 6, 3, 4, 7, 2, 3, 1, 8, 7, 4, 8, 8, 6, 8, 9, 1, 3, 0, 7, 9, 6, 4, 3, 9, 7, 0, 2, 3, 3, 0, 6, 0, 5, 6, 0, 4, 7, 2, 6, 9, 6, 8, 4, 9, 8, 8, 5, 1, 6, 5, 1, 7, 0, 5, 9, 5, 0, 8, 0, 6, 9, 1, 7, 8, 9, 4, 3, 2, 8, 9, 4, 4, 7, 4, 8, 3, 3, 3, 3, 1, 2, 8, 4, 3, 3, 2, 0, 7, 2, 9, 0, 0, 8, 7, 3, 7, 5, 3, 2, 3, 3, 1, 3, 0, 8, 0, 9, 5, 2, 2, 6, 4, 7, 7, 4, 7, 7, 7, 9, 0, 5, 1, 7, 7, 4, 5, 2, 6, 2, 8, 5, 9, 3, 2, 2, 9, 3, 9, 4, 1, 1, 9, 5, 6, 4, 6, 7, 1, 4, 4, 8, 3, 3, 8, 8, 8, 9, 1, 0, 4, 5, 4, 4, 2, 1, 2, 8, 9, 7, 2, 5, 1, 7, 3, 1, 4, 8, 1, 1, 4, 4, 5, 7, 0, 1, 0, 0, 9, 8, 0, 3, 2, 6, 0, 1, 8, 4, 7, 3, 9, 0, 0, 2, 3, 7, 4, 3, 3, 3, 3, 1, 9, 7, 6, 0, 8, 0, 8, 3, 5, 0, 1, 5, 0, 7, 0, 5, 7, 8, 8, 3, 1, 0, 3, 1, 6, 8, 0, 7, 6, 2, 6, 9, 9, 9, 9, 3, 2, 7, 8, 7, 6, 5, 1, 5, 7, 9, 9, 1, 8, 8, 8, 9, 8, 0, 8, 7, 0, 2, 7, 4, 8, 6, 4, 3, 1, 1, 2, 0, 1, 1, 3, 8, 9, 8, 4, 3, 6, 0, 1, 0, 4, 6, 1, 6, 2, 0, 2, 9, 1, 3, 2, 3, 2, 1, 8, 2, 7, 7, 7, 4, 4, 1, 5, 8, 8, 1, 0, 3, 7, 1, 7, 7, 7, 1, 7, 5, 1, 0, 4, 8, 4, 1, 2, 4, 3, 7, 1, 1, 7, 5, 7, 7, 0, 5, 6, 6, 3, 8, 2, 3, 3, 4, 7, 3, 5, 9, 1, 9, 4, 1, 5, 6, 2, 8, 1, 3, 5, 5, 2, 2, 7, 1, 2, 6, 8, 2, 6, 4, 3, 2, 5, 7, 0, 5, 0, 8, 3, 4, 7, 4, 0, 0, 1, 5, 2, 4, 7, 9, 4, 4, 3, 9, 2, 5, 3, 4, 2, 4, 3, 2, 4, 2, 1, 6, 0, 1, 4, 4, 8, 5, 1, 6, 8, 2, 8, 1, 5, 8, 2, 6, 1, 8, 8, 4, 3, 2, 5, 8, 7, 5, 6, 4, 3, 5, 0, 4, 6, 7, 0, 9, 3, 5, 5, 8, 0, 5, 4, 4, 0, 1, 1, 8, 2, 9, 9, 4, 3, 6, 4, 9, 2, 8, 5, 5, 4, 6, 6, 4, 6, 6, 1, 2, 6, 9, 4, 3, 4, 8, 4, 3, 4, 7, 9, 1, 1, 5, 4, 6, 7, 1, 0, 7, 1, 5, 0, 8, 5, 1, 1, 8, 8, 2, 3, 1, 9, 2, 9, 0, 3, 7, 8, 6, 1, 6, 5, 6, 4, 3, 6, 7, 4, 6, 5, 4, 2, 5, 4, 2, 7, 2, 0, 9, 8, 7, 8, 3, 6, 7, 3, 2, 1, 7, 9, 8, 1, 1, 5, 8, 5, 1, 1, 8, 5, 1, 2, 8, 6, 4, 3, 3, 2, 7, 3, 9, 2, 0, 5, 6, 6, 4, 3, 7, 0, 8, 9, 2, 8, 1, 7, 5, 9, 8, 3, 9, 6, 7, 5, 3, 7, 8, 6, 7, 6, 6, 6, 5, 3, 9, 8, 2, 1, 8, 3, 1, 4, 3, 6, 0, 6, 5, 5, 1, 8, 4, 8, 2, 6, 0, 9, 8, 8, 2, 2, 0, 8, 1, 2, 5, 5, 1, 1, 1, 8, 7, 1, 1, 9, 5, 5, 4, 3, 7, 6, 7, 7, 2, 6, 4, 0, 9, 6, 1, 5, 7, 1, 4, 5, 2, 7, 7, 8, 8, 5, 8, 1, 7, 5, 9, 6, 7, 3, 0, 0, 9, 8, 7, 2, 9, 5, 8, 2, 8, 7, 1, 9, 5, 4, 5, 1, 8, 4, 6, 8, 0, 2, 6, 9, 9, 6, 8, 1, 5, 8, 3, 3, 7, 4, 0, 6, 7, 0, 4, 0, 8, 8, 6, 6, 2, 7, 9, 6, 6, 2, 7, 5, 6, 3, 4, 3, 7, 0, 7, 8, 2, 8, 1, 4, 7, 8, 9, 2, 7, 1, 0, 8, 9, 6, 7, 4, 8, 3, 2, 7, 5, 3, 7, 0, 9, 4, 9, 1, 6, 1, 6, 9, 4, 2, 1, 1, 6, 1, 9, 1, 1, 2, 9, 6, 8, 7, 4, 7, 3, 2, 3, 3, 4, 3, 6, 4, 3, 1, 1, 9, 5, 7, 8, 8, 4, 9, 7, 8, 4, 6, 1, 9, 0, 4, 8, 8, 3, 4, 3, 2, 0, 8, 6, 0, 8, 5, 6, 2, 7, 2, 6, 1, 2, 7, 2, 3, 8, 5, 0, 3, 8, 3, 5, 1, 4, 9, 8, 1, 8, 7, 9, 6, 8, 9, 7, 1, 1, 6, 6, 8, 3, 2, 3, 8, 9, 4, 9, 3, 1, 4, 0, 5, 4, 5, 8, 6, 0, 6, 5, 0, 7, 0, 9, 0, 2, 6, 9, 1, 4, 0, 5, 0, 6, 5, 3, 8, 1, 7, 2, 8, 5, 7, 5, 2, 9, 3, 3, 9, 1, 0, 2, 4, 0, 9, 7, 0, 1, 0, 6, 7, 0, 4, 0, 4, 9, 9, 2, 0, 0, 0, 1, 6, 5, 7, 8, 6, 7, 8, 9, 4, 6, 3, 0, 7, 2, 9, 2, 4, 5, 9, 1, 5, 0, 9, 1, 2, 3, 5, 2, 3, 9, 3, 2, 5, 3, 4, 4, 3, 6, 1, 2, 5, 1, 1, 8, 8, 4, 6, 2, 8, 7, 4, 2, 1, 6, 6, 8, 5, 0, 3, 6, 1, 3, 1, 8, 1, 4, 2, 4, 3, 7, 1, 1, 2, 1, 4, 5, 3, 7, 9, 4, 7, 7, 9, 2, 7, 9, 4, 6, 8, 6, 3, 9, 5, 7, 6, 3, 9, 0, 0, 1, 9, 1, 8, 8, 0, 0, 8, 8, 5, 7, 6, 9, 1, 9, 8, 1, 1, 1, 9, 0, 7, 9, 2, 9, 2, 5, 3, 4, 2, 6, 5, 4, 0, 0, 9, 4, 9, 4, 0, 5, 0, 5, 1, 1, 2, 2, 4, 5, 9, 5, 6, 3, 5, 4, 8, 5, 5, 7, 2, 6, 2, 1, 1, 6, 1, 4, 9, 4, 5, 6, 1, 6, 7, 7, 0, 9, 2, 8, 4, 5, 9, 2, 9, 5, 2, 6, 7, 4, 0, 7, 3, 1, 1, 3, 3, 5, 7, 5, 0, 2, 0, 7, 1, 0, 4, 6, 9, 3, 2, 0, 2, 1, 3, 9, 1, 0, 9, 1, 2, 7, 7, 4, 9, 1, 4, 5, 8, 2, 9, 0, 2, 0, 7, 4, 0, 5, 1, 5, 8, 7, 0, 7, 9, 6, 0, 3, 6, 0, 6, 6, 2, 3, 7, 8, 4, 9, 3, 9, 9, 7, 6, 1, 3, 3, 8, 4, 7, 6, 8, 3, 4, 1, 5, 2, 7, 1, 7, 0, 0, 6, 0, 3, 6, 3, 7, 6, 1, 0, 4, 4, 5, 0, 7, 2, 4, 3, 9, 7, 0, 2, 2, 1, 0, 6, 8, 8, 0, 6, 2, 3, 4, 2, 5, 9, 7, 6, 2, 3, 7, 6, 9, 6, 1, 1, 0, 6, 3, 3, 5, 9, 9, 1, 4, 8, 5, 9, 9, 1, 1, 3, 5, 5, 2, 3, 2, 7, 7, 8, 5, 6, 7, 7, 7, 0, 3, 7, 6, 9, 4, 1, 7, 5, 2, 9, 2, 8, 4, 3, 0, 5, 4, 0, 2, 8, 3, 1, 7, 3, 9, 8, 2, 3, 1, 7, 1, 4, 3, 7, 0, 5, 1, 7, 4, 8, 0, 3, 0, 2, 1, 9, 8, 3, 1, 8, 4, 2, 0, 0, 9, 3, 1, 3, 7, 4, 6, 7, 9, 5, 5, 5, 4, 6, 3, 6, 9, 2, 2, 3, 0, 5, 4, 8, 8, 7, 5, 9, 4, 5, 2, 6, 0, 3, 2, 7, 5, 5, 8, 6, 3, 8, 2, 5, 4, 7, 5, 8, 4, 9, 2, 7, 8, 5, 1, 0, 7, 4, 0, 2, 9, 7, 5, 3, 9, 7, 9, 0, 9, 6, 9, 2, 3, 3, 8, 0, 5, 0, 9, 1, 7, 8, 2, 0, 1, 8, 4, 1, 3, 1, 5, 9, 6, 4, 2, 3, 1, 2, 4, 6, 9, 2, 0, 9, 6, 8, 0, 1, 4, 3, 4, 6, 4, 3, 1, 6, 4, 7, 6, 2, 4, 8, 7, 9, 3, 9, 1, 0, 5, 1, 1, 1, 0, 8, 4, 0, 2, 5, 5, 0, 8, 9, 2, 5, 2, 4, 2, 8, 8, 9, 7, 2, 0, 3, 2, 8, 4, 3, 4, 7, 0, 8, 4, 0, 8, 8, 5, 9, 4, 9, 0, 4, 3, 1, 3, 5, 3, 6, 0, 9, 1, 4, 1, 1, 9, 7, 5, 3, 8, 0, 3, 6, 7, 7, 2, 7, 0, 8, 2, 0, 1, 9, 6, 9, 0, 3, 0, 8, 1, 3, 1, 8, 6, 4, 7, 5, 5, 1, 3, 6, 3, 9, 4, 3, 4, 9, 7, 1, 7, 1, 1, 5, 8, 2, 0, 5, 3, 0, 2, 7, 3, 5, 0, 7, 3, 2, 8, 8, 3, 4, 2, 5, 7, 8, 1, 4, 3, 0, 9, 6, 9, 1, 6, 0, 1, 9, 7, 4, 6, 8, 7, 4, 5, 5, 5, 2, 7, 1, 0, 8, 3, 9, 2, 2, 6, 9, 2, 4, 3, 2, 0, 5, 6, 8, 1, 0, 0, 5, 6, 3, 2, 7, 4, 3, 6, 0, 2, 2, 3, 4, 7, 9, 9, 3, 4, 2, 3, 2, 7, 9, 8, 4, 5, 9, 9, 7, 1, 1, 2, 0, 4, 7, 6, 1, 4, 7, 3, 2, 1, 1, 5, 9, 0, 6, 0, 5, 5, 6, 2, 8, 0, 8, 2, 8, 9, 9, 2, 3, 9, 1, 0, 9, 3, 2, 2, 5, 4, 2, 1, 4, 3, 2, 3, 5, 1, 5, 2, 8, 1, 8, 4, 4, 9, 8, 5, 8, 1, 3, 1, 8, 7, 4, 6, 4, 8, 4, 5, 9, 5, 9, 4, 8, 7, 2, 6, 8, 0, 6, 1, 4, 3, 3, 8, 6, 5, 9, 1, 8, 6, 1, 8, 9, 2, 3, 2, 9, 5, 1, 6, 3, 0, 0, 2, 9, 6, 6, 6, 0, 9, 5, 2, 7, 9, 9, 4, 1, 8, 4, 5, 5, 1, 7, 9, 4, 1, 5, 2, 1, 8, 6, 9, 6, 7, 7, 6, 9, 1, 2, 3, 3, 3, 6, 8, 3, 2, 2, 2, 6, 9, 0, 8, 6, 6, 1, 5, 4, 4, 3, 2, 9, 8, 5, 6, 8, 1, 1, 9, 0, 7, 4, 9, 9, 7, 9, 8, 1, 8, 1, 2, 6, 4, 0, 2, 1, 0, 5, 5, 6, 5, 7, 9, 8, 4, 6, 5, 3, 9, 9, 3, 2, 9, 4, 9, 4, 6, 4, 2, 9, 0, 0, 2, 9, 2, 5, 5, 6, 4, 4, 9, 6, 9, 1, 5, 4, 7, 1, 8, 5, 2, 8, 1, 4, 2, 4, 3, 3, 6, 3, 7, 1, 5, 1, 4, 2, 1, 8, 1, 1, 5, 2, 2, 1, 9, 3, 6, 1, 5, 3, 9, 4, 0, 0, 3, 7, 2, 8, 8, 2, 7, 1, 0, 9, 2, 8, 9, 3, 4, 6, 9, 9, 2, 9, 9, 7, 2, 2, 8, 1, 0, 4, 8, 1, 0, 1, 1, 8, 4, 3, 6, 2, 1, 3, 4, 5, 3, 9, 4, 1, 1, 7, 1, 7, 2, 1, 9, 4, 7, 9, 4, 0, 5, 9, 4, 5, 1, 1, 1, 4, 1, 5, 8, 0, 3, 1, 3, 1, 3, 0, 1, 9, 5, 1, 9, 9, 5, 0, 1, 9, 1, 7, 4, 0, 7, 2, 0, 9, 1, 1, 2, 6, 0, 8, 0, 6, 2, 1, 5, 2, 2, 1, 1, 7, 3, 9, 0, 5, 7, 2, 5, 8, 8, 2, 7, 1, 8, 6, 7, 5, 3, 2, 3, 3, 0, 2, 2, 1, 4, 3, 2, 4, 8, 3, 7, 7, 2, 7, 2, 9, 2, 9, 5, 8, 0, 9, 2, 9, 2, 3, 2, 4, 1, 1, 7, 8, 0, 5, 0, 7, 1, 8, 4, 9, 3, 1, 2, 3, 1, 2, 0, 3, 4, 4, 2, 4, 9, 9, 2, 6, 0, 6, 0, 3, 2, 0, 3, 6, 2, 0, 1, 6, 4, 7, 4, 4, 5, 8, 7, 0, 1, 6, 1, 8, 8, 8, 1, 7, 2, 4, 1, 4, 9, 8, 3, 6, 1, 5, 8, 3, 6, 9, 7, 9, 0, 0, 4, 6, 6, 1, 3, 4, 0, 0, 9, 7, 0, 7, 6, 3, 8, 5, 6, 7, 8, 3, 9, 5, 7, 7, 9, 7, 2, 5, 3, 0, 2, 9, 1, 5, 5, 8, 5, 2, 7, 2, 6, 2, 9, 2, 6, 4, 1, 4, 2, 1, 4, 1, 0, 1, 7, 7, 4, 1, 2, 0, 2, 1, 0, 6, 8, 7, 9, 0, 5, 3, 6, 1, 4, 6, 2, 7, 6, 1, 6, 6, 4, 8, 6, 2, 3, 7, 3, 4, 2, 0, 7, 2, 2, 2, 7, 1, 0, 0, 6, 2, 6, 4, 2, 9, 2, 8, 4, 4, 3, 4, 0, 2, 0, 3, 4, 4, 5, 7, 6, 5, 4, 6, 6, 0, 7, 4, 2, 6, 6, 1, 3, 0, 1, 1, 7, 8, 1, 8, 6, 0, 8, 1, 7, 9, 8, 6, 3, 6, 7, 2, 4, 5, 7, 8, 0, 1, 4, 0, 5, 7, 2, 6, 9, 8, 9, 4, 9, 3, 8, 2, 3, 1, 9, 5, 2, 0, 7, 8, 5, 4, 3, 1, 1, 5, 2, 3, 1, 9, 8, 0, 2, 4, 4, 0, 6, 9, 8, 7, 3, 2, 7, 2, 9, 8, 6, 4, 7, 1, 6, 8, 2, 2, 2, 4, 6, 2, 2, 7, 2, 3, 3, 9, 3, 0, 1, 2, 2, 6, 1, 9, 0, 5, 4, 8, 6, 7, 1, 4, 6, 3, 9, 1, 6, 5, 6, 1, 7, 1, 3, 0, 6, 7, 5, 2, 1, 3, 9, 3, 0, 9, 0, 8, 0, 9, 5, 3, 5, 8, 5, 4, 6, 5, 6, 1, 8, 2, 9, 3, 3, 9, 7, 1, 4, 5, 7, 2, 5, 9, 7, 3, 8, 1, 0, 6, 8, 3, 0, 2, 2, 4, 1, 3, 3, 7, 1, 6, 5, 3, 1, 3, 7, 2, 8, 1, 2, 9, 3, 0, 9, 1, 8, 9, 7, 0, 4, 1, 1, 1, 2, 4, 4, 0, 6, 9, 7, 6, 1, 2, 1, 1, 2, 7, 2, 3, 4, 7, 3, 7, 5, 4, 1, 6, 1, 1, 8, 1, 8, 9, 2, 6, 1, 7, 4, 3, 8, 7, 4, 6, 9, 6, 1, 5, 6, 4, 6, 8, 6, 3, 8, 8, 3, 6, 5, 7, 2, 8, 9, 9, 6, 1, 7, 1, 5, 6, 2, 0, 4, 4, 9, 7, 9, 4, 1, 0, 9, 7, 2, 9, 5, 0, 3, 8, 1, 2, 4, 7, 6, 2, 8, 8, 7, 8, 3, 6, 4, 9, 8, 6, 7, 3, 7, 7, 2, 1, 6, 3, 3, 6, 8, 2, 3, 8, 4, 2, 8, 9, 3, 3, 0, 5, 1, 6, 3, 5, 6, 6, 4, 2, 2, 9, 0, 9, 6, 7, 2, 3, 1, 4, 8, 0, 1, 4, 7, 1, 7, 7, 5, 0, 8, 9, 2, 3, 2, 2, 3, 0, 1, 0, 1, 9, 2, 7, 1, 1, 7, 2, 6, 0, 2, 5, 8, 6, 9, 2, 7, 4, 9, 9, 3, 8, 8, 1, 2, 7, 9, 0, 5, 1, 4, 5, 6, 6, 8, 9, 2, 7, 6, 6, 3, 2, 3, 8, 9, 4, 3, 8, 5, 3, 3, 6, 4, 6, 1, 7, 7, 5, 0, 8, 6, 7, 4, 2, 1, 5, 1, 4, 7, 1, 1, 6, 3, 9, 0, 2, 1, 4, 4, 5, 7, 1, 2, 5, 0, 3, 0, 2, 5, 4, 5, 1, 1, 6, 3, 7, 4, 1, 0, 6, 9, 2, 3, 4, 0, 2, 1, 9, 2, 1, 7, 8, 8, 3, 3, 5, 7, 0, 0, 5, 0, 2, 1, 5, 9, 3, 3, 9, 5, 6, 8, 4, 6, 4, 0, 6, 9, 4, 8, 6, 7, 9, 2, 5, 9, 6, 7, 3, 8, 2, 5, 6, 4, 9, 0, 0, 1, 5, 9, 3, 5, 4, 4, 7, 8, 1, 8, 2, 7, 0, 4, 7, 1, 3, 9, 4, 2, 6, 7, 2, 5, 5, 3, 0, 1, 7, 4, 3, 3, 2, 1, 5, 4, 1, 8, 2, 2, 4, 4, 2, 7, 2, 6, 7, 4, 8, 2, 8, 1, 9, 4, 8, 9, 7, 3, 0, 8, 7, 5, 0, 8, 4, 9, 4, 7, 4, 9, 3, 2, 7, 1, 3, 6, 9, 4, 1, 2, 7, 0, 1, 9, 9, 4, 5, 1, 2, 6, 6, 2, 8, 8, 4, 4, 7, 2, 3, 3, 7, 9, 4, 6, 3, 2, 3, 7, 7, 6, 2, 3, 9, 3, 1, 0, 7, 6, 7, 4, 4, 5, 3, 8, 0, 7, 2, 3, 5, 6, 0, 5, 8, 1, 0, 7, 1, 2, 2, 8, 4, 0, 3, 2, 5, 1, 9, 0, 8, 9, 6, 4, 1, 3, 0, 4, 1, 5, 1, 2, 1, 2, 4, 3, 0, 8, 5, 5, 7, 4, 2, 9, 4, 7, 2, 5, 0, 2, 4, 8, 1, 6, 1, 6, 4, 0, 4, 6, 9, 2, 2, 5, 5, 8, 0, 3, 8, 3, 8, 8, 0, 9, 3, 2, 6, 7, 8, 8, 6, 0, 8, 2, 5, 8, 1, 2, 4, 4, 3, 0, 6, 6, 0, 4, 0, 1, 0, 6, 2, 1, 2, 5, 8, 0, 0, 3, 8, 9, 9, 3, 4, 8, 7, 0, 2, 2, 7, 4, 4, 6, 0, 0, 0, 7, 5, 7, 1, 2, 1, 5, 2, 6, 9, 9, 3, 5, 7, 1, 8, 1, 9, 7, 8, 4, 0, 2, 2, 7, 6, 5, 2, 2, 1, 4, 4, 9, 3, 9, 5, 6, 5, 3, 7, 0, 0, 7, 1, 0, 3, 9, 4, 7, 2, 4, 0, 8, 7, 0, 7, 4, 6, 4, 4, 5, 9, 5, 1, 3, 2, 6, 6, 0, 3, 5, 6, 3, 5, 1, 7, 0, 1, 7, 8, 1, 1, 7, 2, 9, 2, 9, 0, 1, 3, 7, 8, 9, 9, 7, 1, 3, 1, 2, 4, 1, 5, 8, 3, 7, 9, 6, 7, 0, 8, 9, 5, 7, 9, 4, 5, 8, 3, 9, 3, 5, 2, 0, 8, 0, 0, 5, 2, 8, 5, 4, 2, 4, 6, 2, 3, 0, 7, 3, 6, 1, 9, 8, 9, 0, 2, 2, 3, 9, 2, 0, 4, 0, 7, 8, 6, 2, 6, 1, 2, 4, 3, 9, 1, 4, 4, 1, 3, 1, 2, 6, 3, 5, 2, 3, 8, 4, 3, 8, 1, 4, 6, 7, 0, 2, 4, 3, 5, 5, 9, 4, 6, 5, 5, 0, 6, 6, 7, 0, 1, 4, 5, 0, 6, 8, 0, 2, 0, 0, 7, 5, 4, 5, 1, 3, 8, 9, 4, 6, 0, 2, 9, 7, 5, 4, 9, 7, 2, 6, 4, 5, 5, 9, 8, 7, 3, 0, 1, 9, 3, 3, 5, 8, 0, 1, 0, 9, 2, 2, 2, 7, 6, 1, 5, 8, 1, 4, 1, 3, 3, 5, 3, 2, 0, 3, 7, 3, 0, 1, 1, 9, 4, 4, 6, 6, 8, 3, 1, 7, 6, 8, 8, 7, 7, 8, 4, 5, 4, 4, 4, 8, 3, 5, 1, 4, 1, 5, 9, 1, 3, 0, 8, 9, 6, 8, 1, 9, 4, 2, 3, 5, 3, 6, 3, 5, 3, 1, 9, 2, 8, 6, 8, 9, 7, 7, 4, 1, 2, 0, 7, 2, 7, 1, 7, 4, 2, 1, 8, 3, 1, 7, 1, 3, 7, 0, 7, 0, 1, 9, 5, 5, 7, 4, 2, 8, 6, 1, 6, 7, 2, 1, 7, 0, 4, 0, 8, 1, 0, 4, 4, 4, 7, 3, 6, 8, 2, 5, 4, 0, 2, 9, 0, 6, 8, 2, 3, 6, 9, 4, 1, 3, 9, 1, 6, 1, 6, 1, 9, 6, 4, 4, 8, 1, 3, 1, 3, 9, 1, 5, 8, 3, 4, 6, 6, 7, 1, 8, 9, 5, 0, 8, 8, 8, 7, 3, 1, 3, 3, 2, 5, 3, 0, 3, 2, 5, 9, 0, 9, 4, 0, 6, 8, 3, 5, 0, 4, 0, 3, 8, 7, 2, 3, 4, 4, 2, 8, 7, 1, 0, 1, 2, 9, 4, 2, 4, 3, 1, 8, 3, 2, 2, 0, 1, 9, 0, 2, 5, 5, 2, 3, 3, 2, 0, 2, 0, 1, 0, 8, 4, 5, 4, 5, 4, 6, 2, 8, 6, 9, 6, 5, 7, 1, 4, 8, 2, 6, 4, 1, 4, 5, 7, 0, 6, 7, 0, 2, 1, 7, 1, 9, 2, 4, 4, 9, 9, 6, 3, 8, 0, 4, 3, 4, 6, 2, 9, 5, 3, 6, 0, 1, 0, 6, 9, 6, 8, 2, 1, 2, 2, 0, 1, 7, 8, 2, 7, 6, 4, 5, 4, 0, 1, 1, 4, 8, 7, 5, 7, 0, 9, 4, 0, 2, 8, 6, 1, 4, 2, 1, 6, 4, 6, 2, 7, 6, 0, 0, 9, 7, 5, 1, 4, 5, 6, 5, 1, 1, 3, 4, 1, 3, 4, 6, 0, 2, 4, 1, 2, 5, 3, 4, 3, 4, 3, 0, 1, 5, 4, 4, 2, 1, 4, 1, 0, 2, 1, 5, 5, 1, 5, 8, 0, 8, 2, 9, 1, 1, 5, 7, 1, 3, 6, 8, 7, 9, 7, 2, 8, 6, 3, 8, 9, 3, 2, 0, 7, 5, 4, 0, 8, 0, 1, 8, 4, 2, 7, 5, 6, 5, 0, 3, 7, 9, 0, 7, 1, 7, 8, 0, 4, 3, 6, 2, 4, 0, 8, 0, 2, 8, 4, 8, 8, 6, 6, 3, 9, 6, 5, 8, 6, 4, 7, 7, 2, 5, 9, 2, 1, 7, 5, 0, 1, 6, 1, 3, 9, 1, 5, 7, 1, 8, 7, 6, 6, 1, 4, 3, 9, 1, 1, 6, 1, 9, 2, 4, 2, 9, 6, 1, 9, 1, 3, 2, 7, 9, 6, 7, 2, 9, 6, 1, 8, 4, 4, 5, 2, 4, 2, 5, 6, 8, 2, 2, 3, 3, 1, 1, 0, 4, 7, 5, 5, 0, 8, 8, 8, 3, 9, 5, 3, 0, 4, 7, 6, 7, 6, 3, 3, 7, 9, 5, 6, 2, 4, 1, 7, 2, 1, 6, 7, 0, 6, 8, 3, 3, 2, 1, 2, 6, 1, 4, 7, 0, 1, 8, 1, 4, 4, 7, 1, 4, 8, 8, 1, 8, 0, 0, 1, 1, 0, 4, 4, 3, 0, 9, 9, 1, 6, 9, 3, 1, 7, 7, 2, 1, 4, 8, 7, 3, 1, 7, 7, 7, 1, 0, 9, 4, 3, 9, 7, 9, 3, 5, 9, 8, 9, 7, 5, 2, 3, 4, 5, 4, 6, 3, 0, 7, 7, 1, 7, 5, 2, 2, 7, 1, 1, 9, 2, 6, 6, 8, 6, 2, 6, 4, 4, 0, 7, 7, 2, 0, 9, 6, 8, 4, 0, 3, 4, 3, 8, 1, 1, 0, 5, 0, 5, 9, 7, 2, 2, 6, 2, 6, 3, 9, 7, 0, 7, 8, 8, 1, 5, 0, 5, 6, 0, 5, 9, 4, 5, 1, 7, 4, 4, 7, 5, 3, 0, 9, 3, 7, 8, 4, 6, 8, 1, 6, 9, 2, 5, 1, 4, 1, 6, 6, 7, 6, 0, 0, 8, 8, 2, 6, 7, 6, 2, 5, 8, 6, 8, 4, 1, 6, 6, 1, 8, 6, 2, 5, 2, 5, 7, 4, 4, 0, 7, 8, 3, 6, 2, 9, 6, 5, 9, 7, 0, 4, 5, 8, 0, 4, 6, 5, 0, 6, 0, 1, 8, 4, 0, 6, 9, 7, 7, 3, 0, 9, 2, 3, 9, 2, 6, 0, 4, 5, 5, 3, 1, 3, 0, 2, 2, 5, 0, 6, 2, 6, 8, 2, 6, 3, 6, 9, 3, 7, 6, 0, 6, 9, 4, 1, 5, 3, 8, 5, 4, 1, 1, 5, 7, 2, 6, 8, 6, 7, 9, 7, 9, 7, 1, 0, 7, 3, 1, 0, 7, 8, 6, 5, 3, 1, 0, 0, 8, 6, 8, 6, 7, 1, 5, 0, 0, 2, 2, 1, 1, 4, 1, 8, 2, 9, 5, 0, 9, 7, 7, 3, 1, 3, 5, 8, 1, 7, 1, 4, 9, 8, 3, 1, 5, 2, 6, 1, 1, 6, 7, 7, 7, 4, 6, 1, 3, 5, 8, 6, 0, 8, 0, 4, 9, 1, 7, 7, 6, 8, 2, 3, 1, 7, 6, 6, 6, 0, 5, 1, 4, 5, 6, 0, 5, 4, 4, 2, 8, 3, 2, 7, 7, 9, 3, 7, 8, 4, 8, 7, 5, 0, 4, 0, 7, 1, 1, 1, 4, 0, 1, 1, 4, 0, 2, 9, 7, 6, 8, 5, 9, 1, 2, 2, 9, 6, 7, 1, 1, 8, 7, 4, 9, 4, 2, 1, 0, 8, 8, 2, 4, 3, 0, 5, 3, 7, 7, 3, 3, 4, 9, 0, 8, 3, 6, 5, 0, 2, 0, 0, 7, 2, 4, 0, 4, 3, 8, 6, 6, 0, 5, 2, 4, 2, 1, 8, 0, 2, 8, 7, 3, 0, 2, 4, 7, 7, 3, 2, 5, 6, 3, 7, 8, 0, 0, 8, 2, 9, 0, 6, 6, 8, 1, 6, 6, 1, 6, 3, 0, 0, 4, 9, 7, 6, 6, 9, 3, 6, 2, 3, 9, 0, 2, 9, 0, 4, 4, 7, 7, 5, 2, 4, 6, 1, 3, 1, 2, 2, 1, 2, 7, 2, 8, 8, 4, 9, 9, 7, 6, 0, 3, 6, 0, 6, 0, 3, 7, 1, 5, 7, 0, 5, 4, 3, 1, 2, 3, 0, 0, 8, 4, 2, 1, 3, 8, 3, 5, 5, 9, 6, 6, 4, 1, 5, 9, 2, 4, 3, 3, 3, 9, 8, 1, 3, 1, 0, 3, 2, 5, 1, 6, 1, 6, 0, 2, 9, 9, 7, 7, 0, 6, 7, 8, 0, 7, 0, 3, 4, 5, 0, 0, 6, 3, 7, 4, 3, 0, 9, 1, 7, 4, 0, 9, 3, 2, 2, 8, 1, 8, 8, 1, 3, 8, 0, 6, 4, 6, 7, 2, 6, 7, 5, 9, 8, 8, 2, 1, 7, 1, 0, 4, 1, 8, 6, 9, 5, 5, 7, 8, 7, 7, 4, 4, 9, 0, 8, 3, 5, 1, 5, 7, 3, 8, 1, 4, 5, 8, 0, 6, 3, 6, 3, 4, 6, 9, 3, 7, 7, 5, 1, 4, 6, 7, 6, 1, 7, 7, 9, 8, 1, 0, 8, 0, 4, 0, 3, 4, 1, 4, 2, 0, 3, 0, 4, 1, 8, 0, 3, 2, 9, 0, 0, 2, 3, 0, 2, 4, 0, 0, 3, 9, 3, 3, 6, 3, 8, 4, 3, 9, 8, 9, 2, 3, 4, 8, 9, 0, 5, 8, 3, 8, 3, 8, 9, 8, 8, 2, 4, 6, 2, 8, 5, 7, 5, 1, 9, 9, 7, 9, 0, 9, 4, 8, 9, 4, 8, 3, 4, 1, 5, 0, 6, 2, 8, 0, 0, 2, 2, 7, 0, 7, 9, 3, 1, 1, 5, 7, 4, 4, 1, 8, 6, 0, 3, 8, 7, 8, 0, 3, 4, 5, 1, 0, 8, 0, 3, 2, 7, 0, 6, 4, 9, 3, 8, 7, 2, 8, 5, 4, 3, 6, 1, 6, 6, 0, 8, 3, 0, 8, 5, 0, 6, 0, 6, 3, 9, 1, 3, 3, 1, 1, 9, 2, 6, 4, 8, 3, 4, 8, 1, 3, 8, 7, 0, 6, 7, 2, 2, 4, 2, 2, 8, 6, 4, 9, 4, 5, 7, 5, 9, 5, 5, 8, 9, 4, 4, 0, 4, 1, 9, 1, 4, 7, 0, 6, 5, 1, 8, 1, 5, 6, 5, 0, 2, 0, 5, 6, 9, 9, 7, 0, 4, 4, 0, 6, 7, 1, 5, 9, 9, 1, 5, 6, 6, 4, 4, 0, 7, 7, 4, 1, 2, 3, 6, 2, 6, 6, 8, 4, 6, 4, 2, 4, 1, 4, 0, 1, 8, 6, 2, 0, 9, 4, 7, 7, 6, 4, 0, 2, 8, 2, 9, 0, 7, 6, 8, 1, 5, 8, 0, 3, 9, 9, 0, 1, 7, 8, 6, 2, 6, 1, 3, 1, 2, 9, 8, 2, 1, 6, 6, 6, 4, 2, 9, 3, 6, 8, 6, 6, 2, 7, 5, 3, 3, 7, 7, 8, 7, 5, 7, 6, 2, 5, 3, 6, 0, 9, 9, 3, 1, 1, 4, 1, 8, 2, 3, 7, 0, 3, 0, 4, 1, 8, 7, 1, 9, 7, 2, 4, 4, 0, 5, 5, 0, 8, 2, 4, 2, 0, 1, 9, 1, 2, 9, 8, 4, 1, 4, 3, 5, 4, 4, 6, 4, 1, 3, 9, 6, 8, 7, 4, 4, 0, 4, 7, 8, 6, 5, 5, 6, 8, 6, 1, 4, 8, 1, 8, 3, 7, 1, 7, 8, 5, 7, 0, 3, 7, 7, 7, 3, 1, 0, 8, 2, 2, 5, 5, 9, 8, 9, 2, 2, 9, 3, 3, 5, 3, 3, 9, 6, 0, 0, 6, 9, 6, 5, 5, 8, 4, 5, 1, 0, 2, 1, 6, 6, 6, 1, 2, 3, 7, 1, 1, 1, 9, 9, 1, 9, 0, 8, 4, 6, 3, 7, 1, 3, 9, 8, 4, 8, 2, 8, 0, 3, 7, 6, 2, 1, 2, 8, 6, 8, 4, 6, 7, 6, 7, 5, 0, 2, 0, 2, 5, 4, 2, 4, 8, 6, 3, 7, 7, 7, 8, 2, 5, 8, 1, 0, 0, 5, 7, 6, 9, 7, 9, 1, 7, 4, 0, 6, 0, 4, 3, 8, 2, 1, 0, 5, 5, 6, 8, 4, 8, 0, 0, 8, 6, 9, 1, 1, 7, 6, 7, 4, 5, 9, 7, 7, 9, 1, 2, 0, 4, 4, 5, 4, 3, 6, 7, 1, 8, 1, 4, 1, 8, 3, 0, 8, 2, 5, 3, 8, 1, 4, 2, 1, 1, 3, 2, 3, 9, 2, 8, 4, 1, 8, 5, 1, 9, 2, 1, 5, 8, 0, 7, 7, 2, 3, 8, 0, 9, 8, 3, 3, 4, 9, 1, 3, 1, 8, 2, 4, 4, 9, 3, 0, 8, 9, 2, 2, 8, 2, 2, 2, 7, 0, 0, 5, 7, 7, 6, 6, 2, 7, 6, 2, 3, 7, 8, 5, 3, 5, 6, 0, 2, 0, 7, 3, 5, 6, 0, 8, 6, 7, 8, 4, 4, 0, 9, 1, 6, 6, 7, 1, 2, 2, 7, 1, 4, 8, 9, 1, 5, 4, 6, 4, 2, 7, 8, 8, 4, 1, 3, 9, 1, 0, 9, 1, 6, 0, 8, 5, 6, 6, 7, 7, 2, 6, 3, 5, 3, 2, 8, 3, 3, 9, 0, 7, 0, 8, 0, 6, 3, 0, 9, 7, 4, 3, 0, 8, 1, 0, 5, 7, 2, 5, 3, 4, 1, 1, 9, 5, 5, 8, 9, 4, 2, 5, 6, 8, 9, 4, 5, 1, 6, 8, 8, 5, 0, 4, 7, 8, 6, 2, 7, 7, 9, 2, 2, 0, 4, 6, 3, 9, 6, 8, 2, 0, 4, 4, 0, 9, 2, 1, 9, 1, 2, 3, 4, 3, 5, 1, 2, 0, 3, 7, 8, 2, 9, 3, 8, 1, 1, 3, 2, 2, 3, 8, 7, 9, 5, 2, 9, 5, 0, 0, 0, 2, 4, 4, 6, 5, 1, 0, 2, 3, 5, 4, 1, 1, 9, 6, 1, 0, 4, 3, 5, 4, 1, 1, 7, 3, 7, 6, 8, 3, 6, 1, 9, 7, 5, 1, 7, 9, 7, 2, 1, 9, 8, 6, 1, 5, 9, 2, 9, 3, 0, 0, 3, 0, 3, 2, 0, 6, 9, 2, 9, 0, 1, 6, 1, 1, 0, 8, 7, 7, 0, 3, 2, 9, 6, 7, 8, 3, 9, 4, 3, 3, 5, 9, 8, 6, 4, 6, 9, 1, 1, 9, 6, 1, 9, 5, 9, 9, 8, 2, 8, 3, 4, 1, 5, 3, 9, 1, 2, 7, 2, 5, 6, 0, 7, 2, 3, 2, 7, 0, 1, 5, 1, 5, 0, 9, 1, 5, 4, 3, 1, 1, 1, 9, 8, 9, 5, 8, 1, 3, 1, 4, 4, 9, 1, 6, 3, 7, 0, 7, 7, 8, 9, 8, 8, 2, 1, 3, 5, 8, 9, 7, 4, 0, 6, 5, 1, 3, 5, 1, 7, 2, 9, 3, 5, 1, 6, 0, 8, 4, 1, 2, 0, 0, 7, 4, 7, 3, 3, 6, 3, 4, 5, 0, 1, 5, 4, 3, 0, 3, 7, 0, 3, 3, 5, 4, 7, 6, 8, 9, 8, 0, 4, 3, 7, 5, 6, 6, 9, 3, 9, 9, 9, 4, 4, 0, 6, 4, 6, 8, 4, 4, 6, 9, 5, 5, 4, 5, 0, 7, 7, 5, 4, 0, 0, 4, 1, 4, 3, 4, 0, 8, 0, 0, 9, 9, 5, 2, 7, 1, 2, 1, 4, 5, 1, 7, 2, 2, 6, 3, 7, 8, 7, 9, 5, 8, 9, 9, 9, 4, 7, 6, 0, 7, 1, 6, 0, 4, 2, 3, 4, 4, 5, 0, 3, 5, 7, 0, 4, 1, 3, 0, 8, 8, 2, 3, 7, 8, 3, 5, 4, 6, 9, 4, 0, 4, 3, 8, 9, 0, 3, 9, 2, 6, 1, 1, 5, 5, 0, 8, 1, 3, 6, 8, 9, 8, 3, 9, 1, 8, 1, 4, 4, 8, 2, 1, 7, 2, 9, 8, 0, 7, 5, 6, 2, 2, 9, 7, 5, 3, 6, 4, 7, 5, 8, 9, 5, 4, 9, 8, 7, 6, 6, 5, 2, 8, 1, 1, 6, 7, 9, 8, 3, 2, 7, 9, 6, 4, 3, 0, 0, 8, 1, 3, 8, 9, 2, 1, 4, 1, 6, 9, 4, 1, 7, 1, 8, 4, 0, 8, 7, 0, 6, 4, 5, 7, 7, 3, 7, 0, 0, 5, 6, 6, 2, 9, 5, 4, 6, 2, 3, 5, 0, 0, 8, 0, 3, 2, 7, 4, 6, 5, 5, 7, 3, 2, 2, 8, 7, 5, 9, 5, 3, 0, 6, 9, 9, 5, 0, 7, 4, 2, 9, 3, 8, 6, 6, 1, 5, 2, 3, 4, 3, 9, 9, 2, 6, 7, 3, 4, 3, 5, 7, 8, 3, 9, 7, 7, 6, 7, 6, 2, 4, 4, 0, 1, 4, 2, 1, 8, 2, 1, 9, 2, 5, 1, 8, 3, 5, 0, 3, 6, 1, 6, 0, 5, 9, 2, 7, 4, 9, 8, 1, 0, 8, 3, 0, 6, 9, 8, 9, 8, 0, 7, 7, 9, 8, 3, 1, 5, 4, 8, 2, 5, 0, 2, 9, 2, 5, 7, 7, 7, 3, 4, 9, 6, 0, 6, 7, 9, 1, 6, 4, 7, 0, 7, 5, 5, 7, 7, 1, 7, 6, 3, 3, 2, 3, 6, 4, 0, 5, 2, 8, 6, 7, 3, 1, 0, 9, 4, 1, 5, 5, 2, 8, 1, 2, 5, 5, 5, 9, 2, 5, 6, 4, 0, 3, 9, 9, 4, 3, 6, 9, 1, 7, 7, 5, 1, 4, 6, 5, 0, 2, 3, 6, 0, 9, 8, 2, 4, 5, 7, 7, 3, 0, 7, 0, 4, 6, 6, 9, 5, 6, 7, 0, 1, 3, 1, 0, 3, 8, 2, 2, 6, 7, 8, 2, 0, 5, 2, 3, 8, 0, 6, 4, 2, 0, 3, 4, 6, 2, 4, 1, 1, 9, 5, 5, 9, 2, 1, 0, 9, 4, 3, 0, 4, 0, 4, 0, 8, 0, 6, 0, 6, 3, 0, 1, 5, 3, 4, 5, 9, 7, 5, 0, 3, 6, 9, 3, 3, 0, 3, 8, 1, 9, 6, 1, 8, 0, 8, 0, 1, 6, 0, 6, 9, 5, 3, 0, 1, 0, 2, 3, 8, 7, 4, 3, 0, 9, 1, 4, 5, 6, 7, 0, 1, 9, 8, 3, 1, 4, 2, 0, 1, 7, 9, 3, 4, 5, 5, 4, 2, 2, 4, 6]\n",
            "<class 'list'>\n"
          ]
        }
      ]
    },
    {
      "cell_type": "code",
      "source": [
        "confusion_matrix = tf.math.confusion_matrix(labels=y_test,predictions=predicted_y_labels)\n",
        "plt.figure(figsize = (12,10))\n",
        "sns.heatmap(confusion_matrix, annot=True, fmt='d')\n",
        "plt.xlabel('Predicted Value')\n",
        "plt.ylabel('Actual Value')"
      ],
      "metadata": {
        "colab": {
          "base_uri": "https://localhost:8080/",
          "height": 867
        },
        "id": "NN9yWRlK5K2J",
        "outputId": "a0fa5317-9338-42ad-eb72-520ecad311e4"
      },
      "execution_count": 60,
      "outputs": [
        {
          "output_type": "execute_result",
          "data": {
            "text/plain": [
              "Text(120.72222222222221, 0.5, 'Actual Value')"
            ]
          },
          "metadata": {},
          "execution_count": 60
        },
        {
          "output_type": "display_data",
          "data": {
            "text/plain": [
              "<Figure size 1200x1000 with 2 Axes>"
            ],
            "image/png": "[encoded data removed]"
          },
          "metadata": {}
        }
      ]
    },
    {
      "cell_type": "markdown",
      "source": [
        "# F1 Score Plot"
      ],
      "metadata": {
        "id": "J4RqzuwJBcSx"
      }
    },
    {
      "cell_type": "code",
      "source": [
        "from sklearn.metrics import f1_score\n",
        "f1_score(y_test,predicted_y_labels, average='weighted')"
      ],
      "metadata": {
        "colab": {
          "base_uri": "https://localhost:8080/"
        },
        "id": "42D8Qf2K_mRN",
        "outputId": "a36f90d2-c25b-4045-e4ad-5509b569ccfb"
      },
      "execution_count": 61,
      "outputs": [
        {
          "output_type": "execute_result",
          "data": {
            "text/plain": [
              "0.9879205383941612"
            ]
          },
          "metadata": {},
          "execution_count": 61
        }
      ]
    },
    {
      "cell_type": "code",
      "source": [
        "plt.plot(a.History['accuracy'])\n",
        "plt.plot(a.a['val_accuracy'])\n",
        "plt.title('Model Accuracy Plot')\n",
        "plt.ylabel('Accuracy')\n",
        "plt.xlabel('No. of Epochs')\n",
        "plt.legend(['Training Data', 'Test Data'], loc='upper left')\n",
        "plt.show()"
      ],
      "metadata": {
        "colab": {
          "base_uri": "https://localhost:8080/",
          "height": 211
        },
        "id": "MiYtBCsh_3Km",
        "outputId": "d651e67a-7def-478b-f0d1-f555c0848d21"
      },
      "execution_count": 66,
      "outputs": [
        {
          "output_type": "error",
          "ename": "AttributeError",
          "evalue": "'History' object has no attribute 'History'",
          "traceback": [
            "\u001b[0;31m---------------------------------------------------------------------------\u001b[0m",
            "\u001b[0;31mAttributeError\u001b[0m                            Traceback (most recent call last)",
            "\u001b[0;32m<ipython-input-66-ece78e81679a>\u001b[0m in \u001b[0;36m<cell line: 1>\u001b[0;34m()\u001b[0m\n\u001b[0;32m----> 1\u001b[0;31m \u001b[0mplt\u001b[0m\u001b[0;34m.\u001b[0m\u001b[0mplot\u001b[0m\u001b[0;34m(\u001b[0m\u001b[0ma\u001b[0m\u001b[0;34m.\u001b[0m\u001b[0mHistory\u001b[0m\u001b[0;34m[\u001b[0m\u001b[0;34m'accuracy'\u001b[0m\u001b[0;34m]\u001b[0m\u001b[0;34m)\u001b[0m\u001b[0;34m\u001b[0m\u001b[0;34m\u001b[0m\u001b[0m\n\u001b[0m\u001b[1;32m      2\u001b[0m \u001b[0mplt\u001b[0m\u001b[0;34m.\u001b[0m\u001b[0mplot\u001b[0m\u001b[0;34m(\u001b[0m\u001b[0ma\u001b[0m\u001b[0;34m.\u001b[0m\u001b[0ma\u001b[0m\u001b[0;34m[\u001b[0m\u001b[0;34m'val_accuracy'\u001b[0m\u001b[0;34m]\u001b[0m\u001b[0;34m)\u001b[0m\u001b[0;34m\u001b[0m\u001b[0;34m\u001b[0m\u001b[0m\n\u001b[1;32m      3\u001b[0m \u001b[0mplt\u001b[0m\u001b[0;34m.\u001b[0m\u001b[0mtitle\u001b[0m\u001b[0;34m(\u001b[0m\u001b[0;34m'Model Accuracy Plot'\u001b[0m\u001b[0;34m)\u001b[0m\u001b[0;34m\u001b[0m\u001b[0;34m\u001b[0m\u001b[0m\n\u001b[1;32m      4\u001b[0m \u001b[0mplt\u001b[0m\u001b[0;34m.\u001b[0m\u001b[0mylabel\u001b[0m\u001b[0;34m(\u001b[0m\u001b[0;34m'Accuracy'\u001b[0m\u001b[0;34m)\u001b[0m\u001b[0;34m\u001b[0m\u001b[0;34m\u001b[0m\u001b[0m\n\u001b[1;32m      5\u001b[0m \u001b[0mplt\u001b[0m\u001b[0;34m.\u001b[0m\u001b[0mxlabel\u001b[0m\u001b[0;34m(\u001b[0m\u001b[0;34m'No. of Epochs'\u001b[0m\u001b[0;34m)\u001b[0m\u001b[0;34m\u001b[0m\u001b[0;34m\u001b[0m\u001b[0m\n",
            "\u001b[0;31mAttributeError\u001b[0m: 'History' object has no attribute 'History'"
          ]
        }
      ]
    }
  ]
}