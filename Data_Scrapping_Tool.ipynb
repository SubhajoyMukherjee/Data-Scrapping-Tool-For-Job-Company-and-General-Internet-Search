{
  "nbformat": 4,
  "nbformat_minor": 0,
  "metadata": {
    "colab": {
      "provenance": [],
      "authorship_tag": "ABX9TyNgm1HtLd8snbMOhY4iz9Dt",
      "include_colab_link": true
    },
    "kernelspec": {
      "name": "python3",
      "display_name": "Python 3"
    },
    "language_info": {
      "name": "python"
    }
  },
  "cells": [
    {
      "cell_type": "markdown",
      "metadata": {
        "id": "view-in-github",
        "colab_type": "text"
      },
      "source": [
        "<a href=\"https://colab.research.google.com/github/SubhajoyMukherjee/Data-Scrapping-Tool-For-Job-Company-and-General-Internet-Search/blob/main/Data_Scrapping_Tool.ipynb\" target=\"_parent\"><img src=\"https://colab.research.google.com/assets/colab-badge.svg\" alt=\"Open In Colab\"/></a>"
      ]
    },
    {
      "cell_type": "markdown",
      "source": [
        "A Github Topics Web Scrapping Model"
      ],
      "metadata": {
        "id": "LECAfy5YobF8"
      }
    },
    {
      "cell_type": "code",
      "source": [
        "!pip install requests --upgrade --quiet"
      ],
      "metadata": {
        "id": "lZt_GSBWqiSQ"
      },
      "execution_count": null,
      "outputs": []
    },
    {
      "cell_type": "code",
      "source": [
        "import requests\n",
        "from bs4 import BeautifulSoup\n",
        "import pandas as pd\n",
        "import csv"
      ],
      "metadata": {
        "id": "lalRksSJqGus"
      },
      "execution_count": null,
      "outputs": []
    },
    {
      "cell_type": "markdown",
      "source": [
        "This is the LinkedIn Job Search Function"
      ],
      "metadata": {
        "id": "ff7aMIiwkROZ"
      }
    },
    {
      "cell_type": "code",
      "source": [
        "def linkedin_job_search(query):\n",
        "    # LinkedIn job search\n",
        "    url = f\"https://www.linkedin.com/jobs/search/?keywords={query}\"\n",
        "    response = requests.get(url)\n",
        "    doc= BeautifulSoup(response.text, 'html.parser')\n",
        "    jobs = doc.find_all('div', class_='job-search-card')\n",
        "    #print(jobs)\n",
        "    results = []\n",
        "    for i in jobs:\n",
        "        title_elem = i.find('span', class_='sr-only')\n",
        "        company_elem = i.find('a', class_='hidden-nested-link')\n",
        "\n",
        "        if title_elem and company_elem:\n",
        "            title = title_elem.text.strip()\n",
        "            company = company_elem.text.strip()\n",
        "            results.append({'Title': title, 'Company': company})\n",
        "    return results"
      ],
      "metadata": {
        "id": "1U4FdBj9knHH"
      },
      "execution_count": null,
      "outputs": []
    },
    {
      "cell_type": "markdown",
      "source": [
        "This is the Company Name Search Function"
      ],
      "metadata": {
        "id": "ENCRhBKLmCaE"
      }
    },
    {
      "cell_type": "markdown",
      "source": [
        "This is the General Internet Search Function"
      ],
      "metadata": {
        "id": "NH6zIjucnL04"
      }
    },
    {
      "cell_type": "code",
      "source": [
        "def general_search(query):\n",
        "    # Generalized search from the internet\n",
        "    url = f\"https://www.google.com/search?q={query}\"\n",
        "    headers = {'User-Agent': 'Mozilla/5.0 (Windows NT 10.0; Win64; x64) AppleWebKit/537.36 (KHTML, like Gecko) Chrome/58.0.3029.110 Safari/537.3'}\n",
        "    response = requests.get(url, headers=headers)\n",
        "    doc = BeautifulSoup(response.text, 'html.parser')\n",
        "    # Parse and extract relevant information from Google search results\n",
        "    results = []\n",
        "    search_results = doc.find_all('a')\n",
        "    #print(search_results)\n",
        "    for result in search_results:\n",
        "     try:\n",
        "        title = result.find('h3').div.text.strip()\n",
        "        link = result['href'][30:]\n",
        "        results.append({'Title': title})\n",
        "     except:\n",
        "         pass\n",
        "    return results\n",
        "\n"
      ],
      "metadata": {
        "id": "kgicX8XDqMoU"
      },
      "execution_count": null,
      "outputs": []
    },
    {
      "cell_type": "markdown",
      "source": [
        "This is the to  save the data in 'comma-separated values'(CSV) Format"
      ],
      "metadata": {
        "id": "e52rTIgAnLDP"
      }
    },
    {
      "cell_type": "code",
      "source": [
        "def save_to_csv(results):\n",
        "    if not results:\n",
        "        print(\"No results to save.\")\n",
        "        return\n",
        "\n",
        "    with open('search_results.csv', 'w', newline='', encoding='utf-8') as csvfile:\n",
        "        fieldnames = results[0].keys() if results else []\n",
        "        writer = csv.DictWriter(csvfile, fieldnames=fieldnames)\n",
        "        writer.writeheader()\n",
        "        for row in results:\n",
        "            writer.writerow(row)"
      ],
      "metadata": {
        "id": "wy6wVmEIqlRR"
      },
      "execution_count": null,
      "outputs": []
    }
  ]
}